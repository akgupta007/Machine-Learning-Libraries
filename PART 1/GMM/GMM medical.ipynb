{
 "cells": [
  {
   "cell_type": "code",
   "execution_count": 5,
   "metadata": {},
   "outputs": [],
   "source": [
    "import numpy\n",
    "import math\n",
    "from numpy.linalg import inv\n",
    "from numpy.linalg import det\n",
    "\n",
    "def gmm(inp,no_of_parameters,label):\n",
    "    input_size = inp.shape[0]\n",
    "    no_of_features = inp.shape[1]\n",
    "    parameters = {}\n",
    "    parameters['label'] = label\n",
    "    parameters['weights'] = numpy.random.dirichlet(numpy.ones(no_of_parameters),size=1)[0]\n",
    "    parameters['means'] = numpy.random.rand(no_of_parameters,no_of_features)\n",
    "    parameters['variances'] = numpy.random.rand(no_of_parameters,no_of_features)\n",
    "    new_params = {}\n",
    "    new_params['label'] = label\n",
    "    new_params['weights'] = numpy.zeros(no_of_parameters)\n",
    "    new_params['means'] = numpy.zeros((no_of_parameters,no_of_features))\n",
    "    new_params['variances'] = numpy.zeros((no_of_parameters,no_of_features))\n",
    "        \n",
    "    count = 0\n",
    "    while(count < 15):\n",
    "        gamma = numpy.zeros((input_size,no_of_parameters))\n",
    "        lembda = parameters['weights']\n",
    "        mu = parameters['means']\n",
    "        var = parameters['variances']\n",
    "        for j in range(no_of_parameters):\n",
    "            for i in range(input_size):\n",
    "                x = inp[i]\n",
    "                denom = 0\n",
    "                num = 0\n",
    "                for temp in range(no_of_parameters):\n",
    "                    diff = x-mu[temp]\n",
    "                    sigma = numpy.zeros((no_of_features,no_of_features))\n",
    "                    for k in range(no_of_features):\n",
    "                        sigma[k][k] = var[temp][k]\n",
    "                    prob = lembda[temp] * math.exp(-1*numpy.dot(numpy.dot(diff,inv(sigma)),diff.transpose())/2) / (math.sqrt((2*math.pi)**no_of_features * det(sigma)))\n",
    "                    denom += prob\n",
    "                    if(j == temp):\n",
    "                        num = prob\n",
    "                gamma[i][j] = num / denom\n",
    "                \n",
    "        for j in range(no_of_parameters):\n",
    "            s1 = numpy.zeros(no_of_features)\n",
    "            s2 = 0.\n",
    "            s3 = numpy.zeros(no_of_features)\n",
    "            for i in range(input_size):\n",
    "                x = inp[i]\n",
    "                s1 += gamma[i][j] * x\n",
    "                s2 += gamma[i][j]\n",
    "                s3 += gamma[i][j] * (x-mu[j]) * (x-mu[j])\n",
    "            new_params['weights'][j] = s2/input_size\n",
    "            new_params['means'][j] = s1/s2\n",
    "            new_params['variances'][j] = s3/s2\n",
    "            \n",
    "        parameters = new_params\n",
    "        count = count+1\n",
    "    return (parameters)"
   ]
  },
  {
   "cell_type": "code",
   "execution_count": 6,
   "metadata": {},
   "outputs": [],
   "source": [
    "def separate_data(inp,inp_label,label):\n",
    "    data = []\n",
    "    length = inp.shape[0]\n",
    "    no_of_features = inp.shape[1]\n",
    "    label_size = label.shape[0]\n",
    "    for t in range(label_size):\n",
    "        data.append(numpy.zeros((1,no_of_features)))\n",
    "        for i in range(length-1,-1,-1):\n",
    "            if (inp_label[i] == label[t]):\n",
    "                data[t] = numpy.insert(data[t],[0],inp[i],axis = 0)\n",
    "        data[t] = numpy.delete(data[t],data[t].shape[0]-1,axis = 0)\n",
    "    return data"
   ]
  },
  {
   "cell_type": "code",
   "execution_count": 7,
   "metadata": {},
   "outputs": [],
   "source": [
    "def get_parameter(data,no_of_parameters,parameters,labels):\n",
    "    for i in range(len(data)):\n",
    "        parameters[i] = gmm(data[i],no_of_parameters[i],labels[i])"
   ]
  },
  {
   "cell_type": "code",
   "execution_count": 9,
   "metadata": {},
   "outputs": [],
   "source": [
    "import csv\n",
    "import numpy\n",
    "with open('Medical_data.csv', 'r') as f:\n",
    "    medical = list(csv.reader(f, delimiter=','))\n",
    "    med_data = numpy.array(medical)\n",
    "\n",
    "inp = med_data[1:,1:]\n",
    "inp_label = med_data[1:,0]\n",
    "label = numpy.array(['HEALTHY','SURGERY','MEDICATION'])\n",
    "data = []\n",
    "data = separate_data(inp,inp_label,label)\n",
    "parameters = [{},{},{}]\n",
    "get_parameter(data,(2,3,2),parameters,label)"
   ]
  },
  {
   "cell_type": "code",
   "execution_count": 12,
   "metadata": {},
   "outputs": [],
   "source": [
    "def predict(x,parameters):\n",
    "    out = \"\"\n",
    "    m = 0\n",
    "    val = 0\n",
    "    no_of_features = len(x)\n",
    "    no_of_class = len(parameters)\n",
    "    for i in range(no_of_class):\n",
    "        lembda = parameters[i]['weights']\n",
    "        mu = parameters[i]['means']\n",
    "        var = parameters[i]['variances']\n",
    "        no_of_parameters = lembda.shape[0]\n",
    "        prob = 0\n",
    "        for t in range(no_of_parameters):\n",
    "            diff = x-mu[t]\n",
    "            sigma = numpy.zeros((no_of_features,no_of_features))\n",
    "            for k in range(no_of_features):\n",
    "                sigma[k][k] = var[t][k]\n",
    "            prob += lembda[t] * math.exp(-1*numpy.dot(numpy.dot(diff,inv(sigma)),diff.transpose())/2) / (math.sqrt((2*math.pi)**3 * det(sigma)))\n",
    "        \n",
    "        if ( prob > val ):\n",
    "            val = prob\n",
    "            m = i\n",
    "    out = parameters[m]['label']\n",
    "    return out"
   ]
  },
  {
   "cell_type": "code",
   "execution_count": 14,
   "metadata": {},
   "outputs": [],
   "source": [
    "def calc_accuracy(inp,inp_label):\n",
    "    accuracy = 0\n",
    "    for i in range(inp.shape[0]):\n",
    "        if (inp_label[i] == predict(inp[i].astype(float),parameters)):\n",
    "            accuracy += 1\n",
    "    return accuracy/inp.shape[0]"
   ]
  },
  {
   "cell_type": "code",
   "execution_count": 15,
   "metadata": {},
   "outputs": [
    {
     "name": "stdout",
     "output_type": "stream",
     "text": [
      "0.909\n"
     ]
    }
   ],
   "source": [
    "acc = calc_accuracy(inp,inp_label)\n",
    "print (acc)"
   ]
  }
 ],
 "metadata": {
  "kernelspec": {
   "display_name": "Python 3",
   "language": "python",
   "name": "python3"
  },
  "language_info": {
   "codemirror_mode": {
    "name": "ipython",
    "version": 3
   },
   "file_extension": ".py",
   "mimetype": "text/x-python",
   "name": "python",
   "nbconvert_exporter": "python",
   "pygments_lexer": "ipython3",
   "version": "3.6.5"
  }
 },
 "nbformat": 4,
 "nbformat_minor": 2
}
