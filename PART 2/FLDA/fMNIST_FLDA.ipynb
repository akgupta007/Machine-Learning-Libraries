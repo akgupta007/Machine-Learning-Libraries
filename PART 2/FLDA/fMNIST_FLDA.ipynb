{
 "cells": [
  {
   "cell_type": "code",
   "execution_count": 1,
   "metadata": {},
   "outputs": [],
   "source": [
    "import numpy\n",
    "import math\n",
    "import cv2\n",
    "from PIL import Image\n",
    "from numpy import mean\n",
    "from numpy import cov\n",
    "from numpy.linalg import eig\n",
    "from numpy.linalg import inv "
   ]
  },
  {
   "cell_type": "code",
   "execution_count": 2,
   "metadata": {},
   "outputs": [],
   "source": [
    "def FLDA(X,Y):\n",
    "    f = X.shape[1]  #data dimension\n",
    "    C0 = numpy.array([X[i] for i in range(X.shape[0]) if Y[i] == 0])   #separating class 0\n",
    "    C1 = numpy.array([X[i] for i in range(X.shape[0]) if Y[i] == 1])   #separating class 1\n",
    "    M0 = numpy.sum(C0,axis = 0)/C0.shape[0]                            #mean of Class 0\n",
    "    M1 = numpy.sum(C1,axis = 0)/C1.shape[0]                            #mean of class 1\n",
    "    M0 = numpy.reshape(M0,(f,1))                                        \n",
    "    M1 = numpy.reshape(M1,(f,1))\n",
    "    C0 = numpy.reshape(C0,(C0.shape[0],C0.shape[1],1))                 \n",
    "    C1 = numpy.reshape(C1,(C1.shape[0],C1.shape[1],1))\n",
    "    SW0 = numpy.sum(numpy.array([(C0[i]-M0)@(C0[i]-M0).T for i in range(C0.shape[0])]), axis = 0)\n",
    "    SW1 = numpy.sum(numpy.array([(C1[i]-M1)@(C1[i]-M1).T for i in range(C1.shape[0])]), axis = 0)\n",
    "    SW = SW0 + SW1\n",
    "    W = inv(SW)@(M1-M0)\n",
    "    \n",
    "    b = -(W.T@(M1+M0) + (W.T@W)*W.T@(SW0@W - SW1@W))/2\n",
    "    return W.reshape(X.shape[1]),b[0][0]"
   ]
  },
  {
   "cell_type": "code",
   "execution_count": 3,
   "metadata": {},
   "outputs": [],
   "source": [
    "def load_mnist(path, kind='train'):\n",
    "    import os\n",
    "    import gzip\n",
    "    import numpy as np\n",
    "\n",
    "    \"\"\"Load MNIST data from `path`\"\"\"\n",
    "    labels_path = os.path.join(path,\n",
    "                               '%s-labels-idx1-ubyte.gz'\n",
    "                               % kind)\n",
    "    images_path = os.path.join(path,\n",
    "                               '%s-images-idx3-ubyte.gz'\n",
    "                               % kind)\n",
    "\n",
    "    with gzip.open(labels_path, 'rb') as lbpath:\n",
    "        labels = np.frombuffer(lbpath.read(), dtype=np.uint8,\n",
    "                               offset=8)\n",
    "\n",
    "    with gzip.open(images_path, 'rb') as imgpath:\n",
    "        images = np.frombuffer(imgpath.read(), dtype=np.uint8,\n",
    "                               offset=16).reshape(len(labels), 784)\n",
    "\n",
    "    return images, labels"
   ]
  },
  {
   "cell_type": "code",
   "execution_count": 4,
   "metadata": {},
   "outputs": [],
   "source": [
    "images, Y = load_mnist('../fMNIST', kind='train')\n",
    "images_test, Y_test = load_mnist('../fMNIST', kind='t10k') "
   ]
  },
  {
   "cell_type": "code",
   "execution_count": 5,
   "metadata": {},
   "outputs": [
    {
     "name": "stdout",
     "output_type": "stream",
     "text": [
      "(60000, 784)\n",
      "[9 0 0 ... 3 0 5]\n"
     ]
    }
   ],
   "source": [
    "print (images.shape)\n",
    "print (Y)\n",
    "classes = [0,1,2,3,4,5,6,7,8,9]"
   ]
  },
  {
   "cell_type": "code",
   "execution_count": 23,
   "metadata": {},
   "outputs": [],
   "source": [
    "def PCA(images,dimensionToProject):\n",
    "    # calculate the mean of each column\n",
    "    M = mean(numpy.array(images).T.tolist(), axis=1)\n",
    "    # center columns by subtracting column means\n",
    "\n",
    "    C = images - M\n",
    "    # calculate covariance matrix of centered matrix\n",
    "    V = cov(C.T)\n",
    "    # eigendecomposition of covariance matrix\n",
    "    values, vectors = eig(V)\n",
    "    vectors = vectors[:numpy.shape(vectors)[0],0:dimensionToProject]\n",
    "    # project data\n",
    "    P = (vectors.T.dot(C.T)).T\n",
    "    \n",
    "    return (numpy.real(P))"
   ]
  },
  {
   "cell_type": "code",
   "execution_count": 7,
   "metadata": {},
   "outputs": [],
   "source": [
    "def multiclassFLDA(X,Y,classes):\n",
    "    f = X.shape[1]\n",
    "    n = X.shape[0]\n",
    "    c = len(classes)\n",
    "    W = numpy.zeros((c,f))\n",
    "    b = numpy.zeros((c))\n",
    "    for i in range(c):\n",
    "        Ty = numpy.zeros((n))\n",
    "        for j in range(n):\n",
    "            if Y[j] == classes[i]:\n",
    "                Ty[j] = 1\n",
    "            else:\n",
    "                Ty[j] = 0\n",
    "        W[i],b[i] = FLDA(X,Ty)\n",
    "        \n",
    "    return W,b"
   ]
  },
  {
   "cell_type": "code",
   "execution_count": 18,
   "metadata": {},
   "outputs": [],
   "source": [
    "def accuracy(X,Y,W,b,classes):\n",
    "    c = len(classes)         #number of classes\n",
    "    n = X.shape[0]           #number of data samples\n",
    "    f = W.shape[1]           #input dimension\n",
    "    acc = 0                  #number of correctly classified inputs\n",
    "    \n",
    "    # implementing soft-max to calculate predicted class\n",
    "    g = numpy.zeros(c)     # probability for each class\n",
    "    for i in range(n):\n",
    "        g = numpy.exp(((W@X[i].reshape(f,1)).reshape(c)+b))\n",
    "        y_predicted = numpy.where(g == max(g))[0]\n",
    "        if (y_predicted[0] == classes.index(Y[i])):\n",
    "            acc += 1\n",
    "        \n",
    "    \n",
    "    return acc/X.shape[0]"
   ]
  },
  {
   "cell_type": "code",
   "execution_count": 26,
   "metadata": {},
   "outputs": [
    {
     "name": "stdout",
     "output_type": "stream",
     "text": [
      "20\n",
      "accuracy :  74.795\n",
      "25\n",
      "accuracy :  75.91666666666667\n",
      "30\n",
      "accuracy :  77.12166666666667\n",
      "35\n",
      "accuracy :  77.85166666666666\n",
      "40\n",
      "accuracy :  78.02166666666666\n",
      "45\n",
      "accuracy :  78.50833333333334\n",
      "50\n",
      "accuracy :  78.77833333333332\n",
      "55\n",
      "accuracy :  79.02833333333334\n",
      "60\n",
      "accuracy :  79.11500000000001\n",
      "65\n",
      "accuracy :  79.38833333333334\n",
      "70\n",
      "accuracy :  79.42833333333333\n",
      "75\n",
      "accuracy :  79.51333333333334\n",
      "80\n",
      "accuracy :  79.76333333333334\n",
      "85\n",
      "accuracy :  79.88333333333333\n",
      "90\n",
      "accuracy :  80.14833333333333\n",
      "95\n",
      "accuracy :  80.17999999999999\n",
      "100\n"
     ]
    },
    {
     "ename": "KeyboardInterrupt",
     "evalue": "",
     "output_type": "error",
     "traceback": [
      "\u001b[1;31m---------------------------------------------------------------------------\u001b[0m",
      "\u001b[1;31mKeyboardInterrupt\u001b[0m                         Traceback (most recent call last)",
      "\u001b[1;32m<ipython-input-26-27d348b41820>\u001b[0m in \u001b[0;36m<module>\u001b[1;34m\u001b[0m\n\u001b[0;32m      4\u001b[0m     \u001b[0mprint\u001b[0m \u001b[1;33m(\u001b[0m\u001b[0mi\u001b[0m\u001b[1;33m)\u001b[0m\u001b[1;33m\u001b[0m\u001b[0m\n\u001b[0;32m      5\u001b[0m     \u001b[0mX\u001b[0m \u001b[1;33m=\u001b[0m \u001b[0mPCA\u001b[0m\u001b[1;33m(\u001b[0m\u001b[0mimages\u001b[0m\u001b[1;33m,\u001b[0m\u001b[0mi\u001b[0m\u001b[1;33m)\u001b[0m\u001b[1;33m\u001b[0m\u001b[0m\n\u001b[1;32m----> 6\u001b[1;33m     \u001b[0mW\u001b[0m\u001b[1;33m,\u001b[0m\u001b[0mb\u001b[0m \u001b[1;33m=\u001b[0m \u001b[0mmulticlassFLDA\u001b[0m\u001b[1;33m(\u001b[0m\u001b[0mX\u001b[0m\u001b[1;33m,\u001b[0m\u001b[0mY\u001b[0m\u001b[1;33m,\u001b[0m\u001b[0mclasses\u001b[0m\u001b[1;33m)\u001b[0m\u001b[1;33m\u001b[0m\u001b[0m\n\u001b[0m\u001b[0;32m      7\u001b[0m     \u001b[0macc\u001b[0m\u001b[1;33m.\u001b[0m\u001b[0mappend\u001b[0m\u001b[1;33m(\u001b[0m\u001b[0maccuracy\u001b[0m\u001b[1;33m(\u001b[0m\u001b[0mX\u001b[0m\u001b[1;33m,\u001b[0m\u001b[0mY\u001b[0m\u001b[1;33m,\u001b[0m\u001b[0mW\u001b[0m\u001b[1;33m,\u001b[0m\u001b[0mb\u001b[0m\u001b[1;33m,\u001b[0m\u001b[0mclasses\u001b[0m\u001b[1;33m)\u001b[0m\u001b[1;33m*\u001b[0m\u001b[1;36m100\u001b[0m\u001b[1;33m)\u001b[0m\u001b[1;33m\u001b[0m\u001b[0m\n\u001b[0;32m      8\u001b[0m     \u001b[0mprint\u001b[0m \u001b[1;33m(\u001b[0m\u001b[1;34m\"accuracy : \"\u001b[0m\u001b[1;33m,\u001b[0m\u001b[0macc\u001b[0m\u001b[1;33m[\u001b[0m\u001b[0ml\u001b[0m\u001b[1;33m]\u001b[0m\u001b[1;33m)\u001b[0m\u001b[1;33m\u001b[0m\u001b[0m\n",
      "\u001b[1;32m<ipython-input-7-261b9c4ff073>\u001b[0m in \u001b[0;36mmulticlassFLDA\u001b[1;34m(X, Y, classes)\u001b[0m\n\u001b[0;32m     12\u001b[0m             \u001b[1;32melse\u001b[0m\u001b[1;33m:\u001b[0m\u001b[1;33m\u001b[0m\u001b[0m\n\u001b[0;32m     13\u001b[0m                 \u001b[0mTy\u001b[0m\u001b[1;33m[\u001b[0m\u001b[0mj\u001b[0m\u001b[1;33m]\u001b[0m \u001b[1;33m=\u001b[0m \u001b[1;36m0\u001b[0m\u001b[1;33m\u001b[0m\u001b[0m\n\u001b[1;32m---> 14\u001b[1;33m         \u001b[0mW\u001b[0m\u001b[1;33m[\u001b[0m\u001b[0mi\u001b[0m\u001b[1;33m]\u001b[0m\u001b[1;33m,\u001b[0m\u001b[0mb\u001b[0m\u001b[1;33m[\u001b[0m\u001b[0mi\u001b[0m\u001b[1;33m]\u001b[0m \u001b[1;33m=\u001b[0m \u001b[0mFLDA\u001b[0m\u001b[1;33m(\u001b[0m\u001b[0mX\u001b[0m\u001b[1;33m,\u001b[0m\u001b[0mTy\u001b[0m\u001b[1;33m)\u001b[0m\u001b[1;33m\u001b[0m\u001b[0m\n\u001b[0m\u001b[0;32m     15\u001b[0m \u001b[1;33m\u001b[0m\u001b[0m\n\u001b[0;32m     16\u001b[0m     \u001b[1;32mreturn\u001b[0m \u001b[0mW\u001b[0m\u001b[1;33m,\u001b[0m\u001b[0mb\u001b[0m\u001b[1;33m\u001b[0m\u001b[0m\n",
      "\u001b[1;32m<ipython-input-2-cf55ada45d61>\u001b[0m in \u001b[0;36mFLDA\u001b[1;34m(X, Y)\u001b[0m\n\u001b[0;32m      9\u001b[0m     \u001b[0mC0\u001b[0m \u001b[1;33m=\u001b[0m \u001b[0mnumpy\u001b[0m\u001b[1;33m.\u001b[0m\u001b[0mreshape\u001b[0m\u001b[1;33m(\u001b[0m\u001b[0mC0\u001b[0m\u001b[1;33m,\u001b[0m\u001b[1;33m(\u001b[0m\u001b[0mC0\u001b[0m\u001b[1;33m.\u001b[0m\u001b[0mshape\u001b[0m\u001b[1;33m[\u001b[0m\u001b[1;36m0\u001b[0m\u001b[1;33m]\u001b[0m\u001b[1;33m,\u001b[0m\u001b[0mC0\u001b[0m\u001b[1;33m.\u001b[0m\u001b[0mshape\u001b[0m\u001b[1;33m[\u001b[0m\u001b[1;36m1\u001b[0m\u001b[1;33m]\u001b[0m\u001b[1;33m,\u001b[0m\u001b[1;36m1\u001b[0m\u001b[1;33m)\u001b[0m\u001b[1;33m)\u001b[0m\u001b[1;33m\u001b[0m\u001b[0m\n\u001b[0;32m     10\u001b[0m     \u001b[0mC1\u001b[0m \u001b[1;33m=\u001b[0m \u001b[0mnumpy\u001b[0m\u001b[1;33m.\u001b[0m\u001b[0mreshape\u001b[0m\u001b[1;33m(\u001b[0m\u001b[0mC1\u001b[0m\u001b[1;33m,\u001b[0m\u001b[1;33m(\u001b[0m\u001b[0mC1\u001b[0m\u001b[1;33m.\u001b[0m\u001b[0mshape\u001b[0m\u001b[1;33m[\u001b[0m\u001b[1;36m0\u001b[0m\u001b[1;33m]\u001b[0m\u001b[1;33m,\u001b[0m\u001b[0mC1\u001b[0m\u001b[1;33m.\u001b[0m\u001b[0mshape\u001b[0m\u001b[1;33m[\u001b[0m\u001b[1;36m1\u001b[0m\u001b[1;33m]\u001b[0m\u001b[1;33m,\u001b[0m\u001b[1;36m1\u001b[0m\u001b[1;33m)\u001b[0m\u001b[1;33m)\u001b[0m\u001b[1;33m\u001b[0m\u001b[0m\n\u001b[1;32m---> 11\u001b[1;33m     \u001b[0mSW0\u001b[0m \u001b[1;33m=\u001b[0m \u001b[0mnumpy\u001b[0m\u001b[1;33m.\u001b[0m\u001b[0msum\u001b[0m\u001b[1;33m(\u001b[0m\u001b[0mnumpy\u001b[0m\u001b[1;33m.\u001b[0m\u001b[0marray\u001b[0m\u001b[1;33m(\u001b[0m\u001b[1;33m[\u001b[0m\u001b[1;33m(\u001b[0m\u001b[0mC0\u001b[0m\u001b[1;33m[\u001b[0m\u001b[0mi\u001b[0m\u001b[1;33m]\u001b[0m\u001b[1;33m-\u001b[0m\u001b[0mM0\u001b[0m\u001b[1;33m)\u001b[0m\u001b[1;33m@\u001b[0m\u001b[1;33m(\u001b[0m\u001b[0mC0\u001b[0m\u001b[1;33m[\u001b[0m\u001b[0mi\u001b[0m\u001b[1;33m]\u001b[0m\u001b[1;33m-\u001b[0m\u001b[0mM0\u001b[0m\u001b[1;33m)\u001b[0m\u001b[1;33m.\u001b[0m\u001b[0mT\u001b[0m \u001b[1;32mfor\u001b[0m \u001b[0mi\u001b[0m \u001b[1;32min\u001b[0m \u001b[0mrange\u001b[0m\u001b[1;33m(\u001b[0m\u001b[0mC0\u001b[0m\u001b[1;33m.\u001b[0m\u001b[0mshape\u001b[0m\u001b[1;33m[\u001b[0m\u001b[1;36m0\u001b[0m\u001b[1;33m]\u001b[0m\u001b[1;33m)\u001b[0m\u001b[1;33m]\u001b[0m\u001b[1;33m)\u001b[0m\u001b[1;33m,\u001b[0m \u001b[0maxis\u001b[0m \u001b[1;33m=\u001b[0m \u001b[1;36m0\u001b[0m\u001b[1;33m)\u001b[0m\u001b[1;33m\u001b[0m\u001b[0m\n\u001b[0m\u001b[0;32m     12\u001b[0m     \u001b[0mSW1\u001b[0m \u001b[1;33m=\u001b[0m \u001b[0mnumpy\u001b[0m\u001b[1;33m.\u001b[0m\u001b[0msum\u001b[0m\u001b[1;33m(\u001b[0m\u001b[0mnumpy\u001b[0m\u001b[1;33m.\u001b[0m\u001b[0marray\u001b[0m\u001b[1;33m(\u001b[0m\u001b[1;33m[\u001b[0m\u001b[1;33m(\u001b[0m\u001b[0mC1\u001b[0m\u001b[1;33m[\u001b[0m\u001b[0mi\u001b[0m\u001b[1;33m]\u001b[0m\u001b[1;33m-\u001b[0m\u001b[0mM1\u001b[0m\u001b[1;33m)\u001b[0m\u001b[1;33m@\u001b[0m\u001b[1;33m(\u001b[0m\u001b[0mC1\u001b[0m\u001b[1;33m[\u001b[0m\u001b[0mi\u001b[0m\u001b[1;33m]\u001b[0m\u001b[1;33m-\u001b[0m\u001b[0mM1\u001b[0m\u001b[1;33m)\u001b[0m\u001b[1;33m.\u001b[0m\u001b[0mT\u001b[0m \u001b[1;32mfor\u001b[0m \u001b[0mi\u001b[0m \u001b[1;32min\u001b[0m \u001b[0mrange\u001b[0m\u001b[1;33m(\u001b[0m\u001b[0mC1\u001b[0m\u001b[1;33m.\u001b[0m\u001b[0mshape\u001b[0m\u001b[1;33m[\u001b[0m\u001b[1;36m0\u001b[0m\u001b[1;33m]\u001b[0m\u001b[1;33m)\u001b[0m\u001b[1;33m]\u001b[0m\u001b[1;33m)\u001b[0m\u001b[1;33m,\u001b[0m \u001b[0maxis\u001b[0m \u001b[1;33m=\u001b[0m \u001b[1;36m0\u001b[0m\u001b[1;33m)\u001b[0m\u001b[1;33m\u001b[0m\u001b[0m\n\u001b[0;32m     13\u001b[0m     \u001b[0mSW\u001b[0m \u001b[1;33m=\u001b[0m \u001b[0mSW0\u001b[0m \u001b[1;33m+\u001b[0m \u001b[0mSW1\u001b[0m\u001b[1;33m\u001b[0m\u001b[0m\n",
      "\u001b[1;32mC:\\ProgramData\\Anaconda3\\lib\\site-packages\\numpy\\core\\fromnumeric.py\u001b[0m in \u001b[0;36msum\u001b[1;34m(a, axis, dtype, out, keepdims, initial)\u001b[0m\n\u001b[0;32m   1819\u001b[0m \u001b[1;33m\u001b[0m\u001b[0m\n\u001b[0;32m   1820\u001b[0m \u001b[1;33m\u001b[0m\u001b[0m\n\u001b[1;32m-> 1821\u001b[1;33m \u001b[1;32mdef\u001b[0m \u001b[0msum\u001b[0m\u001b[1;33m(\u001b[0m\u001b[0ma\u001b[0m\u001b[1;33m,\u001b[0m \u001b[0maxis\u001b[0m\u001b[1;33m=\u001b[0m\u001b[1;32mNone\u001b[0m\u001b[1;33m,\u001b[0m \u001b[0mdtype\u001b[0m\u001b[1;33m=\u001b[0m\u001b[1;32mNone\u001b[0m\u001b[1;33m,\u001b[0m \u001b[0mout\u001b[0m\u001b[1;33m=\u001b[0m\u001b[1;32mNone\u001b[0m\u001b[1;33m,\u001b[0m \u001b[0mkeepdims\u001b[0m\u001b[1;33m=\u001b[0m\u001b[0mnp\u001b[0m\u001b[1;33m.\u001b[0m\u001b[0m_NoValue\u001b[0m\u001b[1;33m,\u001b[0m \u001b[0minitial\u001b[0m\u001b[1;33m=\u001b[0m\u001b[0mnp\u001b[0m\u001b[1;33m.\u001b[0m\u001b[0m_NoValue\u001b[0m\u001b[1;33m)\u001b[0m\u001b[1;33m:\u001b[0m\u001b[1;33m\u001b[0m\u001b[0m\n\u001b[0m\u001b[0;32m   1822\u001b[0m     \"\"\"\n\u001b[0;32m   1823\u001b[0m     \u001b[0mSum\u001b[0m \u001b[0mof\u001b[0m \u001b[0marray\u001b[0m \u001b[0melements\u001b[0m \u001b[0mover\u001b[0m \u001b[0ma\u001b[0m \u001b[0mgiven\u001b[0m \u001b[0maxis\u001b[0m\u001b[1;33m.\u001b[0m\u001b[1;33m\u001b[0m\u001b[0m\n",
      "\u001b[1;31mKeyboardInterrupt\u001b[0m: "
     ]
    }
   ],
   "source": [
    "acc = []\n",
    "l = 0\n",
    "for i in range(20,200,5):\n",
    "    print (i)\n",
    "    X = PCA(images,i)\n",
    "    W,b = multiclassFLDA(X,Y,classes)\n",
    "    acc.append(accuracy(X,Y,W,b,classes)*100)\n",
    "    print (\"accuracy : \",acc[l])\n",
    "    l += 1"
   ]
  },
  {
   "cell_type": "code",
   "execution_count": 27,
   "metadata": {},
   "outputs": [
    {
     "name": "stdout",
     "output_type": "stream",
     "text": [
      "[74.795, 75.91666666666667, 77.12166666666667, 77.85166666666666, 78.02166666666666, 78.50833333333334, 78.77833333333332, 79.02833333333334, 79.11500000000001, 79.38833333333334, 79.42833333333333, 79.51333333333334, 79.76333333333334, 79.88333333333333, 80.14833333333333, 80.17999999999999]\n"
     ]
    }
   ],
   "source": [
    "print (acc)"
   ]
  },
  {
   "cell_type": "code",
   "execution_count": 28,
   "metadata": {},
   "outputs": [
    {
     "name": "stdout",
     "output_type": "stream",
     "text": [
      "0\n",
      "accuracy :  10.0\n",
      "1\n",
      "accuracy :  24.991666666666667\n",
      "2\n",
      "accuracy :  45.12\n",
      "3\n",
      "accuracy :  50.708333333333336\n",
      "4\n",
      "accuracy :  54.7\n",
      "5\n",
      "accuracy :  60.14000000000001\n",
      "6\n",
      "accuracy :  61.69833333333333\n",
      "7\n",
      "accuracy :  62.19\n",
      "8\n",
      "accuracy :  65.23333333333333\n",
      "9\n",
      "accuracy :  68.03833333333333\n",
      "10\n",
      "accuracy :  68.525\n",
      "11\n",
      "accuracy :  69.42166666666667\n",
      "12\n",
      "accuracy :  69.88\n",
      "13\n",
      "accuracy :  70.765\n",
      "14\n",
      "accuracy :  71.32833333333333\n",
      "15\n",
      "accuracy :  72.58333333333333\n",
      "16\n",
      "accuracy :  73.22\n",
      "17\n",
      "accuracy :  73.63333333333333\n",
      "18\n",
      "accuracy :  74.25833333333334\n",
      "19\n",
      "accuracy :  74.60333333333334\n"
     ]
    }
   ],
   "source": [
    "acc1 = []\n",
    "l = 0\n",
    "for i in range(20):\n",
    "    print (i)\n",
    "    X = PCA(images,i)\n",
    "    W,b = multiclassFLDA(X,Y,classes)\n",
    "    acc1.append(accuracy(X,Y,W,b,classes)*100)\n",
    "    print (\"accuracy : \",acc1[l])\n",
    "    l += 1"
   ]
  },
  {
   "cell_type": "code",
   "execution_count": 29,
   "metadata": {},
   "outputs": [
    {
     "name": "stdout",
     "output_type": "stream",
     "text": [
      "[10.0, 24.991666666666667, 45.12, 50.708333333333336, 54.7, 60.14000000000001, 61.69833333333333, 62.19, 65.23333333333333, 68.03833333333333, 68.525, 69.42166666666667, 69.88, 70.765, 71.32833333333333, 72.58333333333333, 73.22, 73.63333333333333, 74.25833333333334, 74.60333333333334]\n"
     ]
    }
   ],
   "source": [
    "print (acc1)"
   ]
  },
  {
   "cell_type": "code",
   "execution_count": 31,
   "metadata": {},
   "outputs": [
    {
     "name": "stdout",
     "output_type": "stream",
     "text": [
      "[74.795, 75.91666666666667, 77.12166666666667, 77.85166666666666, 78.02166666666666, 78.50833333333334, 78.77833333333332, 79.02833333333334, 79.11500000000001, 79.38833333333334, 79.42833333333333, 79.51333333333334, 79.76333333333334, 79.88333333333333, 80.14833333333333, 80.17999999999999]\n"
     ]
    }
   ],
   "source": [
    "acc2 = acc\n",
    "print (acc2)"
   ]
  },
  {
   "cell_type": "code",
   "execution_count": 32,
   "metadata": {},
   "outputs": [
    {
     "name": "stdout",
     "output_type": "stream",
     "text": [
      "[10.0, 24.991666666666667, 45.12, 50.708333333333336, 54.7, 60.14000000000001, 61.69833333333333, 62.19, 65.23333333333333, 68.03833333333333, 68.525, 69.42166666666667, 69.88, 70.765, 71.32833333333333, 72.58333333333333, 73.22, 73.63333333333333, 74.25833333333334, 74.60333333333334, 74.795, 75.91666666666667, 77.12166666666667, 77.85166666666666, 78.02166666666666, 78.50833333333334, 78.77833333333332, 79.02833333333334, 79.11500000000001, 79.38833333333334, 79.42833333333333, 79.51333333333334, 79.76333333333334, 79.88333333333333, 80.14833333333333, 80.17999999999999]\n"
     ]
    }
   ],
   "source": [
    "acc = acc1 + acc2\n",
    "print (acc)"
   ]
  },
  {
   "cell_type": "code",
   "execution_count": 38,
   "metadata": {},
   "outputs": [
    {
     "name": "stdout",
     "output_type": "stream",
     "text": [
      "[0, 1, 2, 3, 4, 5, 6, 7, 8, 9, 10, 11, 12, 13, 14, 15, 16, 17, 18, 19, 20, 25, 30, 35, 40, 45, 50, 55, 60, 65, 70, 75, 80, 85, 90, 95]\n"
     ]
    }
   ],
   "source": [
    "x1 = list(range(20))\n",
    "x2 = list(range(20,100,5))\n",
    "x = x1+x2\n",
    "print (x)"
   ]
  },
  {
   "cell_type": "code",
   "execution_count": 39,
   "metadata": {},
   "outputs": [
    {
     "data": {
      "image/png": "[encoded data removed]",
      "text/plain": [
       "<Figure size 432x288 with 1 Axes>"
      ]
     },
     "metadata": {
      "needs_background": "light"
     },
     "output_type": "display_data"
    }
   ],
   "source": [
    "import matplotlib.pyplot as plt\n",
    "plt.figure('fMNIST_FLDA_accuracy')\n",
    "plt.plot(x,acc)\n",
    "plt.savefig('fMNIST_FLDA_accuracy')"
   ]
  },
  {
   "cell_type": "code",
   "execution_count": 37,
   "metadata": {},
   "outputs": [
    {
     "name": "stdout",
     "output_type": "stream",
     "text": [
      "21.790000000000003\n"
     ]
    }
   ],
   "source": [
    "acc_test = accuracy(X_test,Y_test,W,b,classes)\n",
    "print (acc_test*100)"
   ]
  },
  {
   "cell_type": "code",
   "execution_count": 38,
   "metadata": {},
   "outputs": [],
   "source": [
    "# code may be improved"
   ]
  },
  {
   "cell_type": "code",
   "execution_count": null,
   "metadata": {},
   "outputs": [],
   "source": [
    "from mnist import MNIST\n",
    "images = mnist.train_images()\n",
    "Y = mnist.train_labels().astype('float')\n",
    "\n",
    "images_test = mnist.test_images()\n",
    "Y_test = mnist.test_labels().astype('float')\n",
    "img = Image.fromarray(images_test[2],'L')\n",
    "images = images.reshape(images.shape[0],images.shape[1]*images.shape[2])\n",
    "images_test = images_test.reshape(images_test.shape[0],images_test.shape[1]*images_test.shape[2])\n"
   ]
  }
 ],
 "metadata": {
  "kernelspec": {
   "display_name": "Python 3",
   "language": "python",
   "name": "python3"
  },
  "language_info": {
   "codemirror_mode": {
    "name": "ipython",
    "version": 3
   },
   "file_extension": ".py",
   "mimetype": "text/x-python",
   "name": "python",
   "nbconvert_exporter": "python",
   "pygments_lexer": "ipython3",
   "version": "3.6.6"
  }
 },
 "nbformat": 4,
 "nbformat_minor": 2
}
