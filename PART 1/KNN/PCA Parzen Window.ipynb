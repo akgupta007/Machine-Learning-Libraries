{
 "cells": [
  {
   "cell_type": "code",
   "execution_count": 1,
   "metadata": {},
   "outputs": [
    {
     "name": "stdout",
     "output_type": "stream",
     "text": [
      "10000\n"
     ]
    }
   ],
   "source": [
    "from mnist import MNIST\n",
    "import numpy as np\n",
    "import random\n",
    "mndata = MNIST('Samples')\n",
    "\n",
    "images, labels = mndata.load_training()\n",
    "\n",
    "image1, label1 = mndata.load_testing()\n",
    "\n",
    "print(len(image1))\n",
    "\n",
    "\n"
   ]
  },
  {
   "cell_type": "code",
   "execution_count": 2,
   "metadata": {},
   "outputs": [
    {
     "name": "stdout",
     "output_type": "stream",
     "text": [
      "(784, 784)\n"
     ]
    }
   ],
   "source": [
    "from numpy import array\n",
    "from numpy import mean\n",
    "from numpy import cov\n",
    "from numpy.linalg import eig\n",
    "# define a matrix\n",
    " \n",
    "\n",
    "# calculate the mean of each column\n",
    "M = mean(np.array(images).T.tolist(), axis=1)\n",
    "M1 = mean(np.array(image1).T.tolist(), axis=1)\n",
    "# center columns by subtracting column means\n",
    "\n",
    "C = images - M\n",
    "C1 = image1 - M1\n",
    "# calculate covariance matrix of centered matrix\n",
    "V = cov(C.T)\n",
    "V1 = cov(C1.T)\n",
    "# eigendecomposition of covariance matrix\n",
    "values, vectors = eig(V)\n",
    "value1,vector1 = eig(V1)\n",
    "print(np.shape(vectors))\n",
    "\n",
    "vectors = vectors[:np.shape(vectors)[0],0:50]\n",
    "vector1 = vectors[:np.shape(vector1)[0],0:50]\n",
    "# project data\n",
    "P = vectors.T.dot(C.T)\n",
    "P1 = vector1.T.dot(C1.T)"
   ]
  },
  {
   "cell_type": "code",
   "execution_count": 3,
   "metadata": {
    "scrolled": true
   },
   "outputs": [
    {
     "name": "stdout",
     "output_type": "stream",
     "text": [
      "(50, 60000)\n",
      "(50, 10000)\n",
      "(784,)\n"
     ]
    }
   ],
   "source": [
    "\n",
    "print(np.shape(P))\n",
    "print(np.shape(P1))\n",
    "print(np.shape(M))"
   ]
  },
  {
   "cell_type": "code",
   "execution_count": 4,
   "metadata": {
    "scrolled": true
   },
   "outputs": [
    {
     "name": "stdout",
     "output_type": "stream",
     "text": [
      "119.74334256340455\n"
     ]
    }
   ],
   "source": [
    "\n",
    "print(sum(P[1][:59999]))"
   ]
  },
  {
   "cell_type": "code",
   "execution_count": 5,
   "metadata": {},
   "outputs": [
    {
     "name": "stdout",
     "output_type": "stream",
     "text": [
      "0\n",
      "1\n",
      "2\n",
      "3\n",
      "4\n",
      "5\n",
      "6\n",
      "7\n",
      "8\n",
      "9\n",
      "10\n",
      "11\n",
      "12\n",
      "13\n",
      "14\n",
      "15\n",
      "16\n",
      "17\n",
      "18\n",
      "19\n",
      "20\n",
      "21\n",
      "22\n",
      "23\n",
      "24\n",
      "25\n",
      "26\n",
      "27\n",
      "28\n",
      "29\n",
      "30\n",
      "31\n",
      "32\n",
      "33\n",
      "34\n",
      "35\n",
      "36\n",
      "37\n",
      "38\n",
      "39\n",
      "40\n",
      "41\n",
      "42\n",
      "43\n",
      "44\n",
      "45\n",
      "46\n",
      "47\n",
      "48\n",
      "49\n"
     ]
    }
   ],
   "source": [
    "mean = []\n",
    "for i in range(0,50):\n",
    "    print(i)\n",
    "    mean.append(0)\n",
    "    mean[i]=sum(P[i][:59999])/60000"
   ]
  },
  {
   "cell_type": "code",
   "execution_count": 6,
   "metadata": {},
   "outputs": [
    {
     "name": "stdout",
     "output_type": "stream",
     "text": [
      "[0.030261063488209672, 0.0019957223760567427, 0.007815229959190604, -0.0013129129674720502, 0.0009901269784770295, -0.0003103715163649535, -0.0013951505167782694, 0.0010220873355226822, 0.001584219769755476, -0.00405378033504869, 0.0008209797905886547, 0.0003039755878748379, 0.003318374151348838, 0.0012495729768684971, 0.004069631075966046, -0.006404015241126137, 0.0011935827878999485, 0.002022678647382906, 4.203423441395356e-05, 0.0002362041291818381, 0.00293036645914561, 0.0029008839487509657, 0.0014937884072896265, -0.0031254674391461837, -0.0008227619307629055, -0.00020332208924707515, 3.742342114297586e-05, 0.0007730285561220059, -0.0009602097219636565, 0.0004268731464732672, -0.0003575725586179189, 0.0017766020584250898, -0.001402137544197735, 0.00031033186369732607, -0.0001586339015708134, 0.000618096738304587, -0.00015198175340228677, 0.00025083093649666495, 0.0005810729223658273, -0.00048773969116106696, 0.0006767837720893124, -0.0011410020380332078, 0.00034978251343814544, -0.0013575441266822, -0.00036625196333015995, -0.0010541640547320366, -0.00019904167960686816, -0.000240715811722779, 0.00041422602112465575, 0.0006891187106775434]\n",
      "[-123.99379079 1633.07439599 1211.04119121  240.79311832    3.34835083\n",
      " -404.34045477   91.50551543 -201.37525792  -32.91577364   29.80937064\n",
      "  148.27557572   66.4866083   -49.48682805  137.25573592 -111.03379477\n",
      "   45.89456877  116.47986779 -194.21652375 -426.31025482  208.56373168\n",
      " -144.58206279  168.17592521 -100.32180155  -38.59969801  217.83076188\n",
      "   41.81058921 -109.97500473 -115.61076005 -112.86863716  -97.18357476\n",
      "  -92.07933179  313.19319206  -60.36097461   27.09592676  -41.17056193\n",
      "   69.26648629   41.77768088 -144.92530236  -11.49969305 -127.85752023\n",
      "   63.7267528    71.98263533   89.76068873 -114.19354327  -66.91921864\n",
      "  177.04832989 -132.57765749   20.84064848  -84.21854378  -17.38696433]\n"
     ]
    }
   ],
   "source": [
    "print(mean)\n",
    "P=P.T\n",
    "P1 =P1.T\n",
    "print(P[0])"
   ]
  },
  {
   "cell_type": "code",
   "execution_count": 7,
   "metadata": {},
   "outputs": [],
   "source": [
    "#dist = np.linalg.norm()"
   ]
  },
  {
   "cell_type": "code",
   "execution_count": 8,
   "metadata": {},
   "outputs": [],
   "source": [
    "def dist(x,y,k):\n",
    "    sum = []\n",
    "    sum1 = []\n",
    "    for j in range(0,60000-1):\n",
    "        sum.append(0)\n",
    "        sum[j] = []\n",
    "        sum[j].append(0)\n",
    "        sum[j][0] = np.linalg.norm(x-y[j])\n",
    "        sum[j].append(0)\n",
    "        #print(sum[j][0])\n",
    "        #print(y[j])\n",
    "        sum[j][1] = labels[j]\n",
    "        if(sum[j][0]<k):\n",
    "            sum1.append(sum[j])\n",
    "        \n",
    "     \n",
    "    #print(sum[0:k])\n",
    "    return sum1"
   ]
  },
  {
   "cell_type": "code",
   "execution_count": null,
   "metadata": {},
   "outputs": [],
   "source": [
    "correct1=0\n",
    "for i in range(0,10000):\n",
    "    print(i)\n",
    "    sum1 = []\n",
    "    k=1000\n",
    "    sum1 = dist(P1[i],P,k)\n",
    "    #print(sum1)\n",
    "    correct = [0,0,0,0,0,0,0,0,0,0]\n",
    "    \n",
    "    for j in range(0,len(sum1)-1):\n",
    "        correct[sum1[j][1]]=correct[sum1[j][1]]+1\n",
    "    print(correct.index(max(correct)))\n",
    "    print(label1[i])\n",
    "    \n",
    "    if correct.index(max(correct)) == label1[i]:\n",
    "        correct1 = correct1 +1\n",
    "    #print(correct)    \n",
    "print(correct1/len(test))\n",
    "print(correct1)"
   ]
  },
  {
   "cell_type": "code",
   "execution_count": null,
   "metadata": {},
   "outputs": [],
   "source": []
  },
  {
   "cell_type": "code",
   "execution_count": null,
   "metadata": {},
   "outputs": [],
   "source": []
  }
 ],
 "metadata": {
  "kernelspec": {
   "display_name": "Python 3",
   "language": "python",
   "name": "python3"
  },
  "language_info": {
   "codemirror_mode": {
    "name": "ipython",
    "version": 3
   },
   "file_extension": ".py",
   "mimetype": "text/x-python",
   "name": "python",
   "nbconvert_exporter": "python",
   "pygments_lexer": "ipython3",
   "version": "3.6.5"
  }
 },
 "nbformat": 4,
 "nbformat_minor": 2
}
