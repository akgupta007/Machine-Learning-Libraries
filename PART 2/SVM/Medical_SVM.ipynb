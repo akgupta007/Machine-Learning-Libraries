{
 "cells": [
  {
   "cell_type": "code",
   "execution_count": 1,
   "metadata": {},
   "outputs": [
    {
     "name": "stdout",
     "output_type": "stream",
     "text": [
      "[[ 1.63151556 -0.26444658  2.53456715]\n",
      " [ 0.15395105  1.41953348  1.33312079]\n",
      " [ 2.02172912  0.26204638  2.87997174]\n",
      " ...\n",
      " [ 0.19320188  0.36039894  1.86764457]\n",
      " [ 1.68409597 -0.0232182   3.30625768]\n",
      " [ 0.9752179   2.30595893  0.22982688]]\n",
      "['HEALTHY' 'SURGERY' 'HEALTHY' ... 'HEALTHY' 'HEALTHY' 'MEDICATION']\n"
     ]
    }
   ],
   "source": [
    "import csv\n",
    "import numpy as np\n",
    "from matplotlib import pyplot as plt\n",
    "from sklearn.svm import SVC\n",
    "# reading csv file to extract data into numpy array\n",
    "with open('Medical_data.csv', 'r') as f:\n",
    "    medical = list(csv.reader(f, delimiter=','))\n",
    "    med_data = np.array(medical)\n",
    "\n",
    "# separating feature and label\n",
    "X = med_data[1:,1:].astype('float')   # feature matrix\n",
    "y = med_data[1:,0]  # label of input\n",
    "print (X)\n",
    "print (y) "
   ]
  },
  {
   "cell_type": "code",
   "execution_count": 2,
   "metadata": {},
   "outputs": [],
   "source": [
    "classes = ['HEALTHY','SURGERY','MEDICATION']"
   ]
  },
  {
   "cell_type": "code",
   "execution_count": 3,
   "metadata": {},
   "outputs": [],
   "source": [
    "def multiclassSVM(X,Y,classes):\n",
    "    f = X.shape[1]\n",
    "    n = X.shape[0]\n",
    "    c = len(classes)\n",
    "    W = np.zeros((c,f))\n",
    "    b = np.zeros((c))\n",
    "    for i in range(c):\n",
    "        Ty = np.zeros((n))\n",
    "        for j in range(n):\n",
    "            if Y[j] == classes[i]:\n",
    "                Ty[j] = 1\n",
    "            else:\n",
    "                Ty[j] = -1\n",
    "        clf = SVC(C = 10, kernel = 'linear')\n",
    "        clf.fit(X, Ty.ravel())\n",
    "        W[i],b[i] = clf.coef_[0],clf.intercept_\n",
    "    return W,b"
   ]
  },
  {
   "cell_type": "code",
   "execution_count": 4,
   "metadata": {},
   "outputs": [],
   "source": [
    "W,b = multiclassSVM(X,y,classes)"
   ]
  },
  {
   "cell_type": "code",
   "execution_count": 5,
   "metadata": {},
   "outputs": [],
   "source": [
    "def accuracy(X,Y,W,b,classes):\n",
    "    c = len(classes)         #number of classes\n",
    "    n = X.shape[0]           #number of data samples\n",
    "    f = W.shape[1]           #input dimension\n",
    "    acc = 0                  #number of correctly classified inputs\n",
    "    \n",
    "    # implementing soft-max to calculate predicted class\n",
    "    g = np.zeros(c)     # probability for each class\n",
    "    for i in range(n):\n",
    "        g = np.exp((W@X[i].reshape(f,1)).reshape(c)+b)\n",
    "        y_predicted = np.where(g == max(g))\n",
    "        if (y_predicted[0] == classes.index(Y[i])):\n",
    "            acc += 1\n",
    "    \n",
    "    return acc/X.shape[0]"
   ]
  },
  {
   "cell_type": "code",
   "execution_count": 6,
   "metadata": {},
   "outputs": [
    {
     "name": "stdout",
     "output_type": "stream",
     "text": [
      "81.8\n"
     ]
    }
   ],
   "source": [
    "acc = accuracy(X,y,W,b,classes)\n",
    "print (acc*100)"
   ]
  },
  {
   "cell_type": "code",
   "execution_count": 7,
   "metadata": {},
   "outputs": [
    {
     "name": "stdout",
     "output_type": "stream",
     "text": [
      "[[ 1.14693497 -0.55799118  0.91321611]\n",
      " [-1.62521277  0.2824707   0.44772902]\n",
      " [ 0.24025416  0.05744672 -1.63714355]]\n"
     ]
    }
   ],
   "source": [
    "print (W)"
   ]
  },
  {
   "cell_type": "code",
   "execution_count": 8,
   "metadata": {},
   "outputs": [
    {
     "name": "stdout",
     "output_type": "stream",
     "text": [
      "[-3.02171992 -0.15317589  0.5146363 ]\n"
     ]
    }
   ],
   "source": [
    "print (b)"
   ]
  },
  {
   "cell_type": "code",
   "execution_count": null,
   "metadata": {},
   "outputs": [],
   "source": []
  }
 ],
 "metadata": {
  "kernelspec": {
   "display_name": "Python 3",
   "language": "python",
   "name": "python3"
  },
  "language_info": {
   "codemirror_mode": {
    "name": "ipython",
    "version": 3
   },
   "file_extension": ".py",
   "mimetype": "text/x-python",
   "name": "python",
   "nbconvert_exporter": "python",
   "pygments_lexer": "ipython3",
   "version": "3.6.6"
  }
 },
 "nbformat": 4,
 "nbformat_minor": 2
}
