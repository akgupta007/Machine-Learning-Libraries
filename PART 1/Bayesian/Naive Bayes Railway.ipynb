{
 "cells": [
  {
   "cell_type": "code",
   "execution_count": 1,
   "metadata": {},
   "outputs": [],
   "source": [
    "import numpy\n",
    "import math\n",
    "def bayesian(inp,label):\n",
    "    input_size = inp.shape[0]\n",
    "    no_of_features = inp.shape[1]\n",
    "    parameters = {}\n",
    "    parameters['label'] = label\n",
    "    parameters['means'] = numpy.zeros(no_of_features)\n",
    "    parameters['covariances'] = numpy.zeros((no_of_features,no_of_features))\n",
    "    \n",
    "    mu = numpy.zeros(no_of_features)\n",
    "    for i in range(input_size):\n",
    "        mu += inp[i]\n",
    "    mu = mu/input_size\n",
    "    for j in range(no_of_features):\n",
    "        for k in range(no_of_features):\n",
    "            if (k==j):\n",
    "                parameters['covariances'][j][k] = sum((inp[:,j]-mu[j])*(inp[:,k]-mu[k]))\n",
    "    \n",
    "    parameters['means'] = mu\n",
    "    parameters['covariances'] /= input_size\n",
    "    \n",
    "    return (parameters)"
   ]
  },
  {
   "cell_type": "code",
   "execution_count": 2,
   "metadata": {},
   "outputs": [],
   "source": [
    "def separate_data(inp,inp_label,label):\n",
    "    data = []\n",
    "    length = inp.shape[0]\n",
    "    no_of_features = inp.shape[1]\n",
    "    label_size = label.shape[0]\n",
    "    for t in range(label_size):\n",
    "        data.append(numpy.zeros((1,no_of_features)))\n",
    "        for i in range(length-1,-1,-1):\n",
    "            if (inp_label[i] == label[t]):\n",
    "                data[t] = numpy.insert(data[t],[0],inp[i],axis = 0)\n",
    "        data[t] = numpy.delete(data[t],data[t].shape[0]-1,axis = 0)\n",
    "    return data"
   ]
  },
  {
   "cell_type": "code",
   "execution_count": 3,
   "metadata": {},
   "outputs": [],
   "source": [
    "def get_parameter(data,parameters,labels):\n",
    "    for i in range(len(data)):\n",
    "        parameters[i] = bayesian(data[i],labels[i])"
   ]
  },
  {
   "cell_type": "code",
   "execution_count": 4,
   "metadata": {},
   "outputs": [],
   "source": [
    "import csv\n",
    "import numpy\n",
    "with open('railwayBookingList.csv', 'r') as f:\n",
    "    railway = list(csv.reader(f, delimiter=','))\n",
    "    rail_data = numpy.array(railway)\n",
    "\n",
    "inp = rail_data[1:][:,[0,2,3,4,5,6]]\n",
    "for i in range(inp.shape[0]):\n",
    "    if(inp[i][4] == 'female'):\n",
    "        inp[i][4] = '0'\n",
    "    else:\n",
    "        inp[i][4] = '1'\n",
    "for i in range(inp.shape[0]):\n",
    "    if(inp[i][3] == 'FIRST_AC'):\n",
    "        inp[i][3] = '0'\n",
    "    elif(inp[i][3] == 'SECOND_AC'):\n",
    "        inp[i][3] = '1'\n",
    "    else:\n",
    "        inp[i][3] = '2'\n",
    "inp_label = rail_data[1:,1]\n",
    "label = numpy.array(['0','1'])\n",
    "data = separate_data(inp,inp_label,label)\n",
    "parameters = [{},{}]\n",
    "get_parameter(data,parameters,label)"
   ]
  },
  {
   "cell_type": "code",
   "execution_count": 5,
   "metadata": {},
   "outputs": [],
   "source": [
    "from numpy.linalg import inv\n",
    "from numpy.linalg import det\n",
    "def predict(x,parameters):\n",
    "    out = \"\"\n",
    "    m = 0\n",
    "    val = 0\n",
    "    no_of_features = len(x)\n",
    "    no_of_class = len(parameters)\n",
    "    for i in range(no_of_class):\n",
    "        mu = parameters[i]['means']\n",
    "        prob = 0\n",
    "        diff = x-mu\n",
    "        sigma = parameters[i]['covariances']\n",
    "        prob += math.exp(-1*numpy.dot(numpy.dot(diff,inv(sigma)),diff.transpose())/2) / (math.sqrt((2*math.pi)**3 * det(sigma)))\n",
    "        #print (-1*numpy.dot(numpy.dot(diff,inv(sigma)),diff.transpose())/2)\n",
    "        if ( prob > val ):\n",
    "            val = prob\n",
    "            m = i\n",
    "    out = parameters[m]['label']\n",
    "    return out"
   ]
  },
  {
   "cell_type": "code",
   "execution_count": 6,
   "metadata": {},
   "outputs": [],
   "source": [
    "def calc_accuracy(inp,inp_label):\n",
    "    accuracy = 0\n",
    "    for i in range(inp.shape[0]):\n",
    "        if (inp_label[i] == predict(inp[i].astype(float),parameters)):\n",
    "            accuracy += 1\n",
    "    return accuracy/inp.shape[0]"
   ]
  },
  {
   "cell_type": "code",
   "execution_count": 7,
   "metadata": {},
   "outputs": [
    {
     "name": "stdout",
     "output_type": "stream",
     "text": [
      "0.7792207792207793\n"
     ]
    }
   ],
   "source": [
    "acc = calc_accuracy(inp,inp_label)\n",
    "print (acc)"
   ]
  }
 ],
 "metadata": {
  "kernelspec": {
   "display_name": "Python 3",
   "language": "python",
   "name": "python3"
  },
  "language_info": {
   "codemirror_mode": {
    "name": "ipython",
    "version": 3
   },
   "file_extension": ".py",
   "mimetype": "text/x-python",
   "name": "python",
   "nbconvert_exporter": "python",
   "pygments_lexer": "ipython3",
   "version": "3.6.5"
  }
 },
 "nbformat": 4,
 "nbformat_minor": 2
}
