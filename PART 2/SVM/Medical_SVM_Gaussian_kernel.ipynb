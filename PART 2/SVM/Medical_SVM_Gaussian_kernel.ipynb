{
 "cells": [
  {
   "cell_type": "code",
   "execution_count": 1,
   "metadata": {},
   "outputs": [
    {
     "name": "stdout",
     "output_type": "stream",
     "text": [
      "[[ 1.63151556 -0.26444658  2.53456715]\n",
      " [ 0.15395105  1.41953348  1.33312079]\n",
      " [ 2.02172912  0.26204638  2.87997174]\n",
      " ...\n",
      " [ 0.19320188  0.36039894  1.86764457]\n",
      " [ 1.68409597 -0.0232182   3.30625768]\n",
      " [ 0.9752179   2.30595893  0.22982688]]\n",
      "['HEALTHY' 'SURGERY' 'HEALTHY' ... 'HEALTHY' 'HEALTHY' 'MEDICATION']\n"
     ]
    }
   ],
   "source": [
    "import csv\n",
    "import numpy as np\n",
    "from matplotlib import pyplot as plt\n",
    "from sklearn.svm import SVC\n",
    "# reading csv file to extract data into numpy array\n",
    "with open('Medical_data.csv', 'r') as f:\n",
    "    medical = list(csv.reader(f, delimiter=','))\n",
    "    med_data = np.array(medical)\n",
    "\n",
    "# separating feature and label\n",
    "X = med_data[1:,1:].astype('float')   # feature matrix\n",
    "y = med_data[1:,0]  # label of input\n",
    "print (X)\n",
    "print (y) "
   ]
  },
  {
   "cell_type": "code",
   "execution_count": 2,
   "metadata": {},
   "outputs": [],
   "source": [
    "classes = ['HEALTHY','SURGERY','MEDICATION']"
   ]
  },
  {
   "cell_type": "code",
   "execution_count": null,
   "metadata": {},
   "outputs": [],
   "source": []
  },
  {
   "cell_type": "code",
   "execution_count": 3,
   "metadata": {},
   "outputs": [],
   "source": [
    "def multiclassSVM(X,y,g,c):\n",
    "    f = X.shape[1]\n",
    "    n = X.shape[0]\n",
    "    c = len(classes)\n",
    "    W = np.zeros((c,f))\n",
    "    b = np.zeros((c))\n",
    "    clf_arr = []\n",
    "    classified = np.zeros((3,3000))\n",
    "    for i in range(c):\n",
    "        Ty = np.zeros((n))\n",
    "        for j in range(n):\n",
    "            if y[j] == classes[i]:\n",
    "                Ty[j] = 1\n",
    "            else:\n",
    "                Ty[j] = -1\n",
    "        clf = SVC(gamma = g,C = c)\n",
    "        clf.fit(X, Ty.ravel())\n",
    "        classified[i] = clf.decision_function(X)\n",
    "    return (classified.T)"
   ]
  },
  {
   "cell_type": "code",
   "execution_count": 4,
   "metadata": {},
   "outputs": [
    {
     "name": "stdout",
     "output_type": "stream",
     "text": [
      "[0.01, 0.02, 0.03, 0.04, 0.05, 0.06, 0.07, 0.08, 0.09, 0.1, 0.11, 0.12, 0.13, 0.14, 0.15, 0.16, 0.17, 0.18, 0.19, 0.2, 0.21, 0.22, 0.23, 0.24, 0.25, 0.26, 0.27, 0.28, 0.29, 0.3, 0.31, 0.32, 0.33, 0.34, 0.35, 0.36, 0.37, 0.38, 0.39, 0.4, 0.41, 0.42, 0.43, 0.44, 0.45, 0.46, 0.47, 0.48, 0.49, 0.5, 0.51, 0.52, 0.53, 0.54, 0.55, 0.56, 0.57, 0.58, 0.59, 0.6, 0.61, 0.62, 0.63, 0.64, 0.65, 0.66, 0.67, 0.68, 0.69, 0.7, 0.71, 0.72, 0.73, 0.74, 0.75, 0.76, 0.77, 0.78, 0.79, 0.8, 0.81, 0.82, 0.83, 0.84, 0.85, 0.86, 0.87, 0.88, 0.89, 0.9, 0.91, 0.92, 0.93, 0.94, 0.95, 0.96, 0.97, 0.98, 0.99, 1.0, 1, 2, 3, 4, 5, 6, 7, 8, 9, 10, 11, 12, 13, 14, 15, 16, 17, 18, 19, 20, 21, 22, 23, 24, 25, 26, 27, 28, 29, 30, 31, 32, 33, 34, 35, 36, 37, 38, 39, 40, 41, 42, 43, 44, 45, 46, 47, 48, 49, 50, 51, 52, 53, 54, 55, 56, 57, 58, 59, 60, 61, 62, 63, 64, 65, 66, 67, 68, 69, 70, 71, 72, 73, 74, 75, 76, 77, 78, 79, 80, 81, 82, 83, 84, 85, 86, 87, 88, 89, 90, 91, 92, 93, 94, 95, 96, 97, 98, 99]\n"
     ]
    }
   ],
   "source": [
    "a = np.array(range(1,101))\n",
    "a = a/100\n",
    "b = np.array(range(1,100))\n",
    "c = a.tolist()+b.tolist()\n",
    "print (c)"
   ]
  },
  {
   "cell_type": "code",
   "execution_count": 5,
   "metadata": {},
   "outputs": [
    {
     "name": "stdout",
     "output_type": "stream",
     "text": [
      "83.3\n",
      "85.13333333333334\n",
      "85.8\n",
      "86.26666666666667\n",
      "87.16666666666667\n",
      "87.43333333333334\n",
      "87.7\n",
      "88.0\n",
      "88.13333333333334\n",
      "88.23333333333333\n",
      "88.6\n",
      "88.76666666666667\n",
      "89.1\n",
      "89.06666666666666\n",
      "89.23333333333333\n",
      "89.36666666666666\n",
      "89.43333333333334\n",
      "89.43333333333334\n",
      "89.56666666666666\n",
      "89.66666666666667\n",
      "89.73333333333333\n",
      "89.7\n",
      "89.86666666666666\n",
      "89.9\n",
      "90.0\n",
      "90.13333333333334\n",
      "90.3\n",
      "90.26666666666667\n",
      "90.36666666666666\n",
      "90.4\n",
      "90.43333333333334\n",
      "90.53333333333333\n",
      "90.6\n",
      "90.63333333333334\n",
      "90.56666666666666\n",
      "90.66666666666667\n",
      "90.7\n",
      "90.7\n",
      "90.76666666666667\n",
      "90.8\n",
      "90.76666666666667\n",
      "90.8\n",
      "90.76666666666667\n",
      "90.76666666666667\n",
      "90.76666666666667\n",
      "90.8\n",
      "90.9\n",
      "90.93333333333334\n",
      "91.03333333333333\n",
      "91.1\n",
      "91.06666666666666\n",
      "91.06666666666666\n",
      "91.03333333333333\n",
      "91.03333333333333\n",
      "91.0\n",
      "91.03333333333333\n",
      "91.06666666666666\n",
      "91.06666666666666\n",
      "91.13333333333334\n",
      "91.16666666666667\n",
      "91.2\n",
      "91.26666666666667\n",
      "91.26666666666667\n",
      "91.26666666666667\n",
      "91.26666666666667\n",
      "91.26666666666667\n",
      "91.33333333333333\n",
      "91.33333333333333\n",
      "91.36666666666666\n",
      "91.36666666666666\n",
      "91.4\n",
      "91.46666666666667\n",
      "91.4\n",
      "91.43333333333334\n",
      "91.33333333333333\n",
      "91.36666666666666\n",
      "91.36666666666666\n",
      "91.4\n",
      "91.4\n",
      "91.4\n",
      "91.3\n",
      "91.3\n",
      "91.33333333333333\n",
      "91.3\n",
      "91.23333333333333\n",
      "91.23333333333333\n",
      "91.23333333333333\n",
      "91.26666666666667\n",
      "91.26666666666667\n",
      "91.26666666666667\n",
      "91.3\n",
      "91.33333333333333\n",
      "91.43333333333334\n",
      "91.5\n",
      "91.46666666666667\n",
      "91.43333333333334\n",
      "91.4\n",
      "91.36666666666666\n",
      "91.4\n",
      "91.43333333333334\n",
      "91.43333333333334\n",
      "91.83333333333333\n",
      "92.53333333333333\n",
      "93.03333333333333\n",
      "93.36666666666666\n",
      "93.5\n",
      "93.9\n",
      "94.4\n",
      "94.7\n",
      "94.86666666666666\n",
      "95.13333333333334\n",
      "95.53333333333333\n",
      "95.73333333333333\n",
      "96.0\n",
      "96.16666666666667\n",
      "96.2\n",
      "96.23333333333333\n",
      "96.36666666666666\n",
      "96.43333333333334\n",
      "96.6\n",
      "96.66666666666667\n",
      "96.86666666666666\n",
      "97.0\n",
      "97.13333333333334\n",
      "97.13333333333334\n",
      "97.2\n",
      "97.3\n",
      "97.43333333333334\n",
      "97.6\n",
      "97.63333333333334\n",
      "97.66666666666667\n",
      "97.7\n",
      "97.76666666666667\n",
      "97.8\n",
      "97.96666666666667\n",
      "98.03333333333333\n",
      "98.06666666666666\n",
      "98.16666666666667\n",
      "98.3\n",
      "98.4\n",
      "98.4\n",
      "98.46666666666667\n",
      "98.5\n",
      "98.53333333333333\n",
      "98.6\n",
      "98.6\n",
      "98.7\n",
      "98.8\n",
      "98.8\n",
      "98.8\n",
      "98.8\n",
      "98.83333333333333\n",
      "98.86666666666666\n",
      "98.96666666666667\n",
      "99.03333333333333\n",
      "99.03333333333333\n",
      "99.03333333333333\n",
      "99.1\n",
      "99.1\n",
      "99.1\n",
      "99.13333333333334\n",
      "99.13333333333334\n",
      "99.23333333333333\n",
      "99.23333333333333\n",
      "99.33333333333333\n",
      "99.36666666666666\n",
      "99.43333333333334\n",
      "99.43333333333334\n",
      "99.43333333333334\n",
      "99.53333333333333\n",
      "99.53333333333333\n",
      "99.53333333333333\n",
      "99.53333333333333\n",
      "99.56666666666666\n",
      "99.56666666666666\n",
      "99.6\n",
      "99.6\n",
      "99.6\n",
      "99.6\n",
      "99.6\n",
      "99.63333333333334\n",
      "99.66666666666667\n",
      "99.7\n",
      "99.7\n",
      "99.73333333333333\n",
      "99.73333333333333\n",
      "99.8\n",
      "99.8\n",
      "99.8\n",
      "99.8\n",
      "99.8\n",
      "99.8\n",
      "99.8\n",
      "99.8\n",
      "99.8\n",
      "99.8\n",
      "99.86666666666666\n",
      "99.86666666666666\n",
      "99.86666666666666\n"
     ]
    }
   ],
   "source": [
    "ACC=[]\n",
    "cost = 10\n",
    "for i in range(len(c)):\n",
    "    classified = multiclassSVM(X,y,c[i],cost)\n",
    "    acc =0\n",
    "    for i in range(3000):\n",
    "        y_predicted = np.where(classified[i] == max(classified[i]))\n",
    "        #print (y_predicted)\n",
    "        if(y_predicted[0] == classes.index(y[i])):\n",
    "            acc += 1\n",
    "    print (acc/30)\n",
    "    ACC.append(acc/30)"
   ]
  },
  {
   "cell_type": "code",
   "execution_count": 6,
   "metadata": {},
   "outputs": [
    {
     "name": "stdout",
     "output_type": "stream",
     "text": [
      "[83.3, 85.13333333333334, 85.8, 86.26666666666667, 87.16666666666667, 87.43333333333334, 87.7, 88.0, 88.13333333333334, 88.23333333333333, 88.6, 88.76666666666667, 89.1, 89.06666666666666, 89.23333333333333, 89.36666666666666, 89.43333333333334, 89.43333333333334, 89.56666666666666, 89.66666666666667, 89.73333333333333, 89.7, 89.86666666666666, 89.9, 90.0, 90.13333333333334, 90.3, 90.26666666666667, 90.36666666666666, 90.4, 90.43333333333334, 90.53333333333333, 90.6, 90.63333333333334, 90.56666666666666, 90.66666666666667, 90.7, 90.7, 90.76666666666667, 90.8, 90.76666666666667, 90.8, 90.76666666666667, 90.76666666666667, 90.76666666666667, 90.8, 90.9, 90.93333333333334, 91.03333333333333, 91.1, 91.06666666666666, 91.06666666666666, 91.03333333333333, 91.03333333333333, 91.0, 91.03333333333333, 91.06666666666666, 91.06666666666666, 91.13333333333334, 91.16666666666667, 91.2, 91.26666666666667, 91.26666666666667, 91.26666666666667, 91.26666666666667, 91.26666666666667, 91.33333333333333, 91.33333333333333, 91.36666666666666, 91.36666666666666, 91.4, 91.46666666666667, 91.4, 91.43333333333334, 91.33333333333333, 91.36666666666666, 91.36666666666666, 91.4, 91.4, 91.4, 91.3, 91.3, 91.33333333333333, 91.3, 91.23333333333333, 91.23333333333333, 91.23333333333333, 91.26666666666667, 91.26666666666667, 91.26666666666667, 91.3, 91.33333333333333, 91.43333333333334, 91.5, 91.46666666666667, 91.43333333333334, 91.4, 91.36666666666666, 91.4, 91.43333333333334, 91.43333333333334, 91.83333333333333, 92.53333333333333, 93.03333333333333, 93.36666666666666, 93.5, 93.9, 94.4, 94.7, 94.86666666666666, 95.13333333333334, 95.53333333333333, 95.73333333333333, 96.0, 96.16666666666667, 96.2, 96.23333333333333, 96.36666666666666, 96.43333333333334, 96.6, 96.66666666666667, 96.86666666666666, 97.0, 97.13333333333334, 97.13333333333334, 97.2, 97.3, 97.43333333333334, 97.6, 97.63333333333334, 97.66666666666667, 97.7, 97.76666666666667, 97.8, 97.96666666666667, 98.03333333333333, 98.06666666666666, 98.16666666666667, 98.3, 98.4, 98.4, 98.46666666666667, 98.5, 98.53333333333333, 98.6, 98.6, 98.7, 98.8, 98.8, 98.8, 98.8, 98.83333333333333, 98.86666666666666, 98.96666666666667, 99.03333333333333, 99.03333333333333, 99.03333333333333, 99.1, 99.1, 99.1, 99.13333333333334, 99.13333333333334, 99.23333333333333, 99.23333333333333, 99.33333333333333, 99.36666666666666, 99.43333333333334, 99.43333333333334, 99.43333333333334, 99.53333333333333, 99.53333333333333, 99.53333333333333, 99.53333333333333, 99.56666666666666, 99.56666666666666, 99.6, 99.6, 99.6, 99.6, 99.6, 99.63333333333334, 99.66666666666667, 99.7, 99.7, 99.73333333333333, 99.73333333333333, 99.8, 99.8, 99.8, 99.8, 99.8, 99.8, 99.8, 99.8, 99.8, 99.8, 99.86666666666666, 99.86666666666666, 99.86666666666666]\n"
     ]
    }
   ],
   "source": [
    "A = ACC\n",
    "print (A)"
   ]
  },
  {
   "cell_type": "code",
   "execution_count": 7,
   "metadata": {},
   "outputs": [],
   "source": [
    "a = list(range(1,101))"
   ]
  },
  {
   "cell_type": "code",
   "execution_count": 8,
   "metadata": {},
   "outputs": [
    {
     "data": {
      "image/png": "[encoded data removed]",
      "text/plain": [
       "<Figure size 432x288 with 1 Axes>"
      ]
     },
     "metadata": {
      "needs_background": "light"
     },
     "output_type": "display_data"
    }
   ],
   "source": [
    "import matplotlib.pyplot as plt\n",
    "plt.figure('Medical_SVM_gaussian')\n",
    "plt.plot(c,ACC)\n",
    "plt.savefig('Medical_SVM_gaussian')"
   ]
  },
  {
   "cell_type": "code",
   "execution_count": 5,
   "metadata": {},
   "outputs": [
    {
     "name": "stdout",
     "output_type": "stream",
     "text": [
      "[ 1.28474825 -1.44064479  1.58789557 ... -0.66235113  1.42023594\n",
      " -2.15919419]\n",
      "[-1.59105309  0.69038954 -1.81915099 ...  0.49929959 -1.24063522\n",
      " -0.78548608]\n",
      "[-2.90243172 -1.29208835 -3.24009586 ... -2.16381006 -3.99235796\n",
      "  0.63890771]\n"
     ]
    }
   ],
   "source": [
    "\n",
    "f = X.shape[1]\n",
    "n = X.shape[0]\n",
    "c = len(classes)\n",
    "W = np.zeros((c,f))\n",
    "b = np.zeros((c))\n",
    "clf_arr = []\n",
    "for i in range(c):\n",
    "    Ty = np.zeros((n))\n",
    "    for j in range(n):\n",
    "        if y[j] == classes[i]:\n",
    "            Ty[j] = 1\n",
    "        else:\n",
    "            Ty[j] = -1\n",
    "    clf = SVC(gamma = 0.01)\n",
    "    clf.fit(X, Ty.ravel())\n",
    "    print (clf.decision_function(X))"
   ]
  },
  {
   "cell_type": "code",
   "execution_count": null,
   "metadata": {},
   "outputs": [],
   "source": [
    "def accuracy(X,y,classes):\n",
    "    c = len(classes)         #number of classes\n",
    "    n = X.shape[0]           #number of data samples\n",
    "    f = W.shape[1]           #input dimension\n",
    "    acc = 0                  #number of correctly classified inputs\n",
    "    \n",
    "    # implementing soft-max to calculate predicted class\n",
    "    g = np.zeros(c)     # probability for each class\n",
    "    for i in range(n):\n",
    "        clf_arr.predict(X[i])\n",
    "        y_predicted = np.where(g == max(g))[0]\n",
    "        if (y_predicted[0] == classes.index(y[i])):\n",
    "            acc += 1\n",
    "    \n",
    "    return acc/X.shape[0]"
   ]
  },
  {
   "cell_type": "code",
   "execution_count": 10,
   "metadata": {},
   "outputs": [
    {
     "name": "stdout",
     "output_type": "stream",
     "text": [
      "33.33333333333333\n"
     ]
    }
   ],
   "source": [
    "acc = accuracy(X,y,classes)*100\n",
    "print(acc)"
   ]
  },
  {
   "cell_type": "code",
   "execution_count": 49,
   "metadata": {},
   "outputs": [
    {
     "name": "stdout",
     "output_type": "stream",
     "text": [
      "[[ 1.14432574 -0.55590702  0.90819178]\n",
      " [-1.62237757  0.28200822  0.44760031]\n",
      " [ 0.24087069  0.05919695 -1.63351801]]\n"
     ]
    }
   ],
   "source": [
    "print (W)"
   ]
  },
  {
   "cell_type": "code",
   "execution_count": 38,
   "metadata": {},
   "outputs": [
    {
     "name": "stdout",
     "output_type": "stream",
     "text": [
      "33.33333333333333\n"
     ]
    }
   ],
   "source": [
    "acc = accuracy(X,y,W,b,classes)\n",
    "print (acc*100)"
   ]
  },
  {
   "cell_type": "code",
   "execution_count": null,
   "metadata": {},
   "outputs": [],
   "source": [
    "print (W)"
   ]
  },
  {
   "cell_type": "code",
   "execution_count": null,
   "metadata": {},
   "outputs": [],
   "source": [
    "print (b)"
   ]
  },
  {
   "cell_type": "code",
   "execution_count": null,
   "metadata": {},
   "outputs": [],
   "source": []
  }
 ],
 "metadata": {
  "kernelspec": {
   "display_name": "Python 3",
   "language": "python",
   "name": "python3"
  },
  "language_info": {
   "codemirror_mode": {
    "name": "ipython",
    "version": 3
   },
   "file_extension": ".py",
   "mimetype": "text/x-python",
   "name": "python",
   "nbconvert_exporter": "python",
   "pygments_lexer": "ipython3",
   "version": "3.6.6"
  }
 },
 "nbformat": 4,
 "nbformat_minor": 2
}
