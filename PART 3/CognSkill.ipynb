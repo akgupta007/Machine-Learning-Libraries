{
 "cells": [
  {
   "cell_type": "code",
   "execution_count": 77,
   "metadata": {},
   "outputs": [],
   "source": [
    "import numpy as np\n",
    "import csv\n",
    "import pandas as pd\n",
    "import matplotlib.pyplot as plt\n",
    "data = pd.read_csv(\"a.csv\") \n",
    "\n",
    "import numpy as np\n",
    "from mpl_toolkits.mplot3d import Axes3D\n",
    "\n",
    "\n",
    "def loadCsv(filename):\n",
    "    lines = csv.reader(open(filename, \"rb\"))\n",
    "    with open(filename, 'r') as f:\n",
    "        reader = csv.reader(f)\n",
    "        dataset = list(reader)\n",
    "        return dataset\n",
    "    \n",
    "    \n",
    "test=loadCsv('rr12.csv')\n",
    "\n",
    "\n",
    "import math\n",
    "def prob(x, mean, var):\n",
    "    stdev = math.sqrt(var)\n",
    "    exponent = math.exp(-(math.pow(float(x)-mean,2)/(2*math.pow(stdev,2))))\n",
    "    return (1 / (math.sqrt(2*math.pi) * stdev)) * exponent\n",
    "\n",
    "\n",
    "def findprob(x,mean1,mean2,var1,var2,l1,l2):\n",
    "    prob1 = []\n",
    "    prob1.append(1)\n",
    "    prob1[0] = l1*prob(x[0],mean1[0],var1[0])*prob(x[1],mean1[1],var1[1])*prob(x[2],mean1[2],var1[2]) \n",
    "    prob1.append(1)\n",
    "    prob1[1] = l2*prob(x[0],mean2[0],var2[0])*prob(x[1],mean2[1],var2[1])*prob(x[2],mean2[2],var2[2]) \n",
    "    return prob1.index(min(prob1))"
   ]
  },
  {
   "cell_type": "code",
   "execution_count": 78,
   "metadata": {},
   "outputs": [
    {
     "name": "stdout",
     "output_type": "stream",
     "text": [
      "[16.31090487238979, 18.8631090487239, 12.631090487238978]\n",
      "[13.260654112983152, 16.53914767096135, 9.141724479682855]\n",
      "[78.21424303271337, 55.85829102987174, 51.1284069314874]\n",
      "[56.04778387592071, 56.99515096203862, 45.06044559990699]\n"
     ]
    }
   ],
   "source": [
    "mean1 = [0,0,0]\n",
    "var1 = [0,0,0]\n",
    "mean2 = [0,0,0]\n",
    "var2 = [0,0,0]\n",
    "l1=0\n",
    "l2=0\n",
    "for i in range(0,len(data)-1):\n",
    "    if(data['P4'][i]==1):\n",
    "        mean1[0] = float(data['S1'][i])+mean1[0]\n",
    "        mean1[1] = float(data['S2'][i])+mean1[1]\n",
    "        mean1[2] = float(data['S3'][i])+mean1[2]\n",
    "        l1+=1\n",
    "    else:\n",
    "        mean2[0] = float(data['S1'][i])+mean2[0]\n",
    "        mean2[1] = float(data['S2'][i])+mean2[1]\n",
    "        mean2[2] = float(data['S3'][i])+mean2[2]\n",
    "        l2+=1\n",
    "    \n",
    "mean1[0] = mean1[0]/l1 \n",
    "mean1[1] = mean1[1]/l1 \n",
    "mean1[2] = mean1[2]/l1  \n",
    "mean2[0] = mean2[0]/l2  \n",
    "mean2[1] = mean2[1]/l2  \n",
    "mean2[2] = mean2[2]/l2  \n",
    "\n",
    "for i in range(0,len(data)-1):\n",
    "    if(data['P4'][i]==1):\n",
    "        var1[0] = pow(float(data['S1'][i])-mean1[0],2)+var1[0]\n",
    "        var1[1] = pow(float(data['S2'][i])-mean1[1],2)+var1[1]\n",
    "        var1[2] = pow(float(data['S3'][i])-mean1[2],2)+var1[2]\n",
    "    else:\n",
    "        var2[0] = pow(float(data['S1'][i])-mean1[0],2)+var2[0]\n",
    "        var2[1] = pow(float(data['S2'][i])-mean1[1],2)+var2[1]\n",
    "        var2[2] = pow(float(data['S3'][i])-mean1[2],2)+var2[2]\n",
    "var1[0] = var1[0]/l1 \n",
    "var1[1] = var1[1]/l1 \n",
    "var1[2] = var1[2]/l1  \n",
    "var2[0] = var2[0]/l2  \n",
    "var2[1] = var2[1]/l2  \n",
    "var2[2] = var2[2]/l2  \n",
    "\n",
    "print(mean1)\n",
    "print(mean2)\n",
    "print(var1)\n",
    "print(var2)"
   ]
  },
  {
   "cell_type": "code",
   "execution_count": 79,
   "metadata": {
    "scrolled": false
   },
   "outputs": [
    {
     "name": "stdout",
     "output_type": "stream",
     "text": [
      "[17.62406015037594, 19.360902255639097, 17.32330827067669]\n",
      "[13.490664675130695, 16.91411501120239, 12.42419716206124]\n",
      "[93.24212787608198, 58.92989993781451, 65.49697552151032]\n",
      "[46.901145114593, 51.59755282023029, 50.03066169675152]\n"
     ]
    }
   ],
   "source": [
    "mean3 = [0,0,0]\n",
    "var3 = [0,0,0]\n",
    "mean4 = [0,0,0]\n",
    "var4 = [0,0,0]\n",
    "l3=0\n",
    "l4=0\n",
    "for i in range(0,len(data)-1):\n",
    "    if(data['P3'][i]==1):\n",
    "        mean3[0] = float(data['S1'][i])+mean3[0]\n",
    "        mean3[1] = float(data['S2'][i])+mean3[1]\n",
    "        mean3[2] = float(data['S4'][i])+mean3[2]\n",
    "        l3+=1\n",
    "    else:\n",
    "        mean4[0] = float(data['S1'][i])+mean4[0]\n",
    "        mean4[1] = float(data['S2'][i])+mean4[1]\n",
    "        mean4[2] = float(data['S4'][i])+mean4[2]\n",
    "        l4+=1\n",
    "    \n",
    "mean3[0] = mean3[0]/l3 \n",
    "mean3[1] = mean3[1]/l3 \n",
    "mean3[2] = mean3[2]/l3  \n",
    "mean4[0] = mean4[0]/l4  \n",
    "mean4[1] = mean4[1]/l4  \n",
    "mean4[2] = mean4[2]/l4  \n",
    "\n",
    "for i in range(0,len(data)-1):\n",
    "    if(data['P3'][i]==1):\n",
    "        var3[0] = pow(float(data['S1'][i])-mean3[0],2)+var3[0]\n",
    "        var3[1] = pow(float(data['S2'][i])-mean3[1],2)+var3[1]\n",
    "        var3[2] = pow(float(data['S4'][i])-mean3[2],2)+var3[2]\n",
    "    else:\n",
    "        var4[0] = pow(float(data['S1'][i])-mean4[0],2)+var4[0]\n",
    "        var4[1] = pow(float(data['S2'][i])-mean4[1],2)+var4[1]\n",
    "        var4[2] = pow(float(data['S4'][i])-mean4[2],2)+var4[2]\n",
    "var3[0] = var3[0]/l3\n",
    "var3[1] = var3[1]/l3 \n",
    "var3[2] = var3[2]/l3  \n",
    "var4[0] = var4[0]/l4  \n",
    "var4[1] = var4[1]/l4  \n",
    "var4[2] = var4[2]/l4  \n",
    "\n",
    "print(mean3)\n",
    "print(mean4)\n",
    "print(var3)\n",
    "print(var4)"
   ]
  },
  {
   "cell_type": "code",
   "execution_count": 80,
   "metadata": {},
   "outputs": [
    {
     "name": "stdout",
     "output_type": "stream",
     "text": [
      "[15.84447900466563, 11.337480559875583, 14.506998444790046]\n",
      "[12.075213675213675, 9.456410256410257, 12.300854700854702]\n",
      "[67.1857665637126, 46.75235881571824, 60.477011674958085]\n",
      "[45.80630871502658, 36.52502301117675, 53.40692234640951]\n"
     ]
    }
   ],
   "source": [
    "mean5 = [0,0,0]\n",
    "var5 = [0,0,0]\n",
    "mean6 = [0,0,0]\n",
    "var6 = [0,0,0]\n",
    "l5=0\n",
    "l6=0\n",
    "for i in range(0,len(data)-1):\n",
    "    if(data['P2'][i]==1):\n",
    "        mean5[0] = float(data['S1'][i])+mean5[0]\n",
    "        mean5[1] = float(data['S3'][i])+mean5[1]\n",
    "        mean5[2] = float(data['S4'][i])+mean5[2]\n",
    "        l5+=1\n",
    "    else:\n",
    "        mean6[0] = float(data['S1'][i])+mean6[0]\n",
    "        mean6[1] = float(data['S3'][i])+mean6[1]\n",
    "        mean6[2] = float(data['S4'][i])+mean6[2]\n",
    "        l6+=1\n",
    "    \n",
    "mean5[0] = mean5[0]/l5\n",
    "mean5[1] = mean5[1]/l5 \n",
    "mean5[2] = mean5[2]/l5  \n",
    "mean6[0] = mean6[0]/l6  \n",
    "mean6[1] = mean6[1]/l6  \n",
    "mean6[2] = mean6[2]/l6  \n",
    "\n",
    "for i in range(0,len(data)-1):\n",
    "    if(data['P2'][i]==1):\n",
    "        var5[0] = pow(float(data['S1'][i])-mean5[0],2)+var5[0]\n",
    "        var5[1] = pow(float(data['S3'][i])-mean5[1],2)+var5[1]\n",
    "        var5[2] = pow(float(data['S4'][i])-mean5[2],2)+var5[2]\n",
    "    else:\n",
    "        var6[0] = pow(float(data['S1'][i])-mean6[0],2)+var6[0]\n",
    "        var6[1] = pow(float(data['S3'][i])-mean6[1],2)+var6[1]\n",
    "        var6[2] = pow(float(data['S4'][i])-mean6[2],2)+var6[2]\n",
    "var5[0] = var5[0]/l5 \n",
    "var5[1] = var5[1]/l5 \n",
    "var5[2] = var5[2]/l5  \n",
    "var6[0] = var6[0]/l6  \n",
    "var6[1] = var6[1]/l6  \n",
    "var6[2] = var6[2]/l6  \n",
    "\n",
    "print(mean5)\n",
    "print(mean6)\n",
    "print(var5)\n",
    "print(var6)\n",
    "        "
   ]
  },
  {
   "cell_type": "code",
   "execution_count": 81,
   "metadata": {
    "scrolled": true
   },
   "outputs": [
    {
     "name": "stdout",
     "output_type": "stream",
     "text": [
      "[17.62406015037594, 19.360902255639097, 17.32330827067669]\n",
      "[13.490664675130695, 16.91411501120239, 12.42419716206124]\n",
      "[93.24212787608198, 58.92989993781451, 65.49697552151032]\n",
      "[46.901145114593, 51.59755282023029, 50.03066169675152]\n"
     ]
    }
   ],
   "source": [
    "mean7 = [0,0,0]\n",
    "var7 = [0,0,0]\n",
    "mean8 = [0,0,0]\n",
    "var8 = [0,0,0]\n",
    "l7=0\n",
    "l8=0\n",
    "for i in range(0,len(data)-1):\n",
    "    if(data['P1'][i]==1):\n",
    "        mean7[0] = float(data['S2'][i])+mean7[0]\n",
    "        mean7[1] = float(data['S3'][i])+mean7[1]\n",
    "        mean7[2] = float(data['S4'][i])+mean7[2]\n",
    "        l7+=1\n",
    "    else:\n",
    "        mean8[0] = float(data['S3'][i])+mean8[0]\n",
    "        mean8[1] = float(data['S2'][i])+mean8[1]\n",
    "        mean8[2] = float(data['S4'][i])+mean8[2]\n",
    "        l8+=1\n",
    "    \n",
    "mean7[0] = mean7[0]/l7 \n",
    "mean7[1] = mean7[1]/l7 \n",
    "mean7[2] = mean7[2]/l7  \n",
    "mean8[0] = mean8[0]/l8  \n",
    "mean8[1] = mean8[1]/l8  \n",
    "mean8[2] = mean8[2]/l8  \n",
    "\n",
    "for i in range(0,len(data)-1):\n",
    "    if(data['P1'][i]==1):\n",
    "        var7[0] = pow(float(data['S3'][i])-mean7[0],2)+var7[0]\n",
    "        var7[1] = pow(float(data['S2'][i])-mean7[1],2)+var7[1]\n",
    "        var7[2] = pow(float(data['S4'][i])-mean7[2],2)+var7[2]\n",
    "    else:\n",
    "        var8[0] = pow(float(data['S3'][i])-mean8[0],2)+var8[0]\n",
    "        var8[1] = pow(float(data['S2'][i])-mean8[1],2)+var8[1]\n",
    "        var8[2] = pow(float(data['S4'][i])-mean8[2],2)+var8[2]\n",
    "var7[0] = var7[0]/l1 \n",
    "var7[1] = var7[1]/l1 \n",
    "var7[2] = var7[2]/l1  \n",
    "var8[0] = var8[0]/l2  \n",
    "var8[1] = var8[1]/l2  \n",
    "var8[2] = var8[2]/l2  \n",
    "\n",
    "print(mean3)\n",
    "print(mean4)\n",
    "print(var3)\n",
    "print(var4)"
   ]
  },
  {
   "cell_type": "code",
   "execution_count": 82,
   "metadata": {},
   "outputs": [
    {
     "name": "stdout",
     "output_type": "stream",
     "text": [
      "0.5867446393762183\n"
     ]
    }
   ],
   "source": [
    "correct = 0 \n",
    "for i in range(1,len(test)-1):\n",
    "    if findprob([test[i][3],test[i][4],test[i][5]],mean7,mean8,var7,var8,l7,l8) == int(test[i][9]):\n",
    "        correct = correct+1\n",
    "print(correct/len(test))"
   ]
  },
  {
   "cell_type": "code",
   "execution_count": 83,
   "metadata": {},
   "outputs": [
    {
     "name": "stdout",
     "output_type": "stream",
     "text": [
      "0.7953216374269005\n"
     ]
    }
   ],
   "source": [
    "correct = 0 \n",
    "for i in range(1,len(test)-1):\n",
    "    if findprob([test[i][2],test[i][3],test[i][5]],mean3,mean4,var3,var4,l3,l4) == int(test[i][7]):\n",
    "        correct = correct+1\n",
    "print(correct/len(test))"
   ]
  },
  {
   "cell_type": "code",
   "execution_count": 61,
   "metadata": {},
   "outputs": [
    {
     "name": "stdout",
     "output_type": "stream",
     "text": [
      "0.594541910331384\n"
     ]
    }
   ],
   "source": [
    "correct = 0 \n",
    "for i in range(1,len(test)-1):\n",
    "    if findprob([test[i][2],test[i][4],test[i][5]],mean5,mean6,var5,var6,l5,l6) == int(test[i][8]):\n",
    "        correct = correct+1\n",
    "print(correct/len(test))"
   ]
  },
  {
   "cell_type": "code",
   "execution_count": 62,
   "metadata": {},
   "outputs": [
    {
     "name": "stdout",
     "output_type": "stream",
     "text": [
      "0.6062378167641326\n"
     ]
    }
   ],
   "source": [
    "correct = 0 \n",
    "for i in range(1,len(test)-1):\n",
    "    if findprob(test[i][2:5],mean1,mean2,var1,var2,l1,l2) == int(test[i][6]):\n",
    "        correct = correct+1\n",
    "print(correct/len(test))"
   ]
  },
  {
   "cell_type": "code",
   "execution_count": 63,
   "metadata": {},
   "outputs": [
    {
     "name": "stdout",
     "output_type": "stream",
     "text": [
      "[17.62406015037594, 0.0]\n",
      "[13.490664675130695, 0.0]\n",
      "[93.24212787608198, 0.0]\n",
      "[46.901145114593, 0.0]\n"
     ]
    }
   ],
   "source": []
  },
  {
   "cell_type": "code",
   "execution_count": 64,
   "metadata": {},
   "outputs": [
    {
     "name": "stdout",
     "output_type": "stream",
     "text": [
      "0.6374269005847953\n"
     ]
    }
   ],
   "source": []
  },
  {
   "cell_type": "code",
   "execution_count": 10,
   "metadata": {},
   "outputs": [],
   "source": [
    "z=pd.read_csv('a.csv')\n",
    "z1=pd.read_csv('rr12.csv')\n",
    "\n",
    "ytr1=[]\n",
    "ytr2=[]\n",
    "ytr3=[]\n",
    "ytr4=[]\n",
    "\n",
    "\n",
    "yts1=[]\n",
    "yts2=[]\n",
    "yts3=[]\n",
    "yts4=[]\n",
    "\n",
    "for i in range (0,len(z['S1'])):\n",
    "    if int(z['P4'][i])==0:\n",
    "        ytr1.append(-1)\n",
    "    else:\n",
    "        ytr1.append(1)\n",
    "        \n",
    "    if int(z['P3'][i])==0:\n",
    "        ytr2.append(-1)\n",
    "    else:\n",
    "        ytr2.append(1)\n",
    "        \n",
    "        \n",
    "    if int(z['P2'][i])==0:\n",
    "        ytr3.append(-1)\n",
    "    else:\n",
    "        ytr3.append(1)\n",
    "        \n",
    "        \n",
    "    if int(z['P1'][i])==0:\n",
    "        ytr4.append(-1)\n",
    "    else:\n",
    "        ytr4.append(1)\n",
    "\n",
    "for i in range (0,len(z1['S1'])):\n",
    "    if int(z1['P4'][i])==0:\n",
    "        yts1.append(-1)\n",
    "    else:\n",
    "        yts1.append(1)\n",
    "        \n",
    "    if int(z1['P3'][i])==0:\n",
    "        yts2.append(-1)\n",
    "    else:\n",
    "        yts2.append(1)\n",
    "        \n",
    "        \n",
    "    if int(z1['P2'][i])==0:\n",
    "        yts3.append(-1)\n",
    "    else:\n",
    "        yts3.append(1)\n",
    "        \n",
    "        \n",
    "    if int(z1['P1'][i])==0:\n",
    "        yts4.append(-1)\n",
    "    else:\n",
    "        yts4.append(1)\n",
    "      \n"
   ]
  },
  {
   "cell_type": "code",
   "execution_count": 11,
   "metadata": {},
   "outputs": [
    {
     "name": "stdout",
     "output_type": "stream",
     "text": [
      "1872\n",
      "[-0.399, -1.199999999999999, -0.400000000000023, -0.04999999999999999]\n",
      "0.6411764705882353\n"
     ]
    }
   ],
   "source": [
    "w = [0.001,0,0,0]\n",
    "print(len(z))\n",
    "eta = 0.05\n",
    "epochs = 100000\n",
    "\n",
    "i=0\n",
    "for j in range(epochs):\n",
    "    i=j%1871\n",
    "    if ytr2[i]*(z['S1'][i]*w[0]+z['S2'][i]*w[1]+z['S4'][i]*w[2]+w[3])<0.1:\n",
    "        w[0] = w[0] + float(eta*z['S1'][i]*ytr2[i])\n",
    "        w[1] = w[1] + float(eta*z['S2'][i]*ytr2[i])\n",
    "        w[2] = w[2] + float(eta*z['S4'][i]*ytr2[i])\n",
    "        w[3] = w[3] + float(eta*ytr2[i])\n",
    "        \n",
    "        \n",
    "print(w)\n",
    "accu=0\n",
    "dis=0\n",
    "\n",
    "for i in range (1, len(z1)-1):\n",
    "    if yts2[i]*(z1['S1'][i]*w[0]+z1['S2'][i]*w[1]+z1['S4'][i]*w[2]+w[3])>0:\n",
    "        accu+=1\n",
    "    else:\n",
    "        dis+=1\n",
    "            \n",
    "print(accu/(accu+dis))"
   ]
  },
  {
   "cell_type": "code",
   "execution_count": 12,
   "metadata": {},
   "outputs": [
    {
     "name": "stdout",
     "output_type": "stream",
     "text": [
      "1872\n",
      "[0.601, -0.3999999999999526, 1.20000000000005, -0.15000000000000002]\n",
      "0.5509803921568628\n"
     ]
    }
   ],
   "source": [
    "w = [0.001,0,0,0]\n",
    "print(len(z))\n",
    "eta = 0.05\n",
    "epochs = 100000\n",
    "\n",
    "i=0\n",
    "for j in range(epochs):\n",
    "    i=j%1871\n",
    "    if ytr1[i]*(z['S1'][i]*w[0]+z['S2'][i]*w[1]+z['S3'][i]*w[2]+w[3])<0.1:\n",
    "        w[0] = w[0] + float(eta*z['S1'][i]*ytr1[i])\n",
    "        w[1] = w[1] + float(eta*z['S2'][i]*ytr1[i])\n",
    "        w[2] = w[2] + float(eta*z['S3'][i]*ytr1[i])\n",
    "        w[3] = w[3] + float(eta*ytr1[i])\n",
    "        \n",
    "        \n",
    "print(w)\n",
    "accu=0\n",
    "dis=0\n",
    "\n",
    "for i in range (1, len(z1)-1):\n",
    "    if yts1[i]*(z1['S1'][i]*w[0]+z1['S2'][i]*w[1]+z1['S3'][i]*w[2]+w[3])>0:\n",
    "        accu+=1\n",
    "    else:\n",
    "        dis+=1\n",
    "            \n",
    "print(accu/(accu+dis))"
   ]
  },
  {
   "cell_type": "code",
   "execution_count": 13,
   "metadata": {},
   "outputs": [
    {
     "name": "stdout",
     "output_type": "stream",
     "text": [
      "1872\n",
      "[0.001, 0, 0, 0]\n",
      "0.5901960784313726\n"
     ]
    }
   ],
   "source": [
    "w = [0.001,0,0,0]\n",
    "print(len(z))\n",
    "eta = 0.01\n",
    "epochs = 100000\n",
    "\n",
    "i=0\n",
    "for j in range(epochs):\n",
    "    i=j%1871\n",
    "    if ytr3[i]*(z['S1'][i]*w[0]+z['S3'][i]*w[1]+z['S4'][i]*w[2]+w[3])<-0.1:\n",
    "        w[0] = w[0] + float(eta*z['S1'][i]*ytr3[i])\n",
    "        w[1] = w[1] + float(eta*z['S3'][i]*ytr3[i])\n",
    "        w[2] = w[2] + float(eta*z['S4'][i]*ytr3[i])\n",
    "        w[3] = w[3] + float(eta*ytr3[i])\n",
    "        \n",
    "        \n",
    "print(w)\n",
    "accu=0\n",
    "dis=0\n",
    "\n",
    "for i in range (1, len(z1)-1):\n",
    "    if yts3[i]*(z1['S1'][i]*w[0]+z1['S3'][i]*w[1]+z1['S4'][i]*w[2]+w[3])>0:\n",
    "        accu+=1\n",
    "    else:\n",
    "        dis+=1\n",
    "            \n",
    "print(accu/(accu+dis))"
   ]
  },
  {
   "cell_type": "code",
   "execution_count": 14,
   "metadata": {},
   "outputs": [
    {
     "name": "stdout",
     "output_type": "stream",
     "text": [
      "1872\n",
      "[0.20100000000000073, 2.6000000000000005, 1.0000000000000002, -0.9000000000000001]\n",
      "0.515686274509804\n"
     ]
    }
   ],
   "source": [
    "w = [0.001,0,0,0]\n",
    "print(len(z))\n",
    "eta = 0.05\n",
    "epochs = 100000\n",
    "\n",
    "i=0\n",
    "for j in range(epochs):\n",
    "    i=j%1871\n",
    "    if ytr4[i]*(z['S2'][i]*w[0]+z['S3'][i]*w[1]+z['S4'][i]*w[2]+w[3])<0.1:\n",
    "        w[0] = w[0] + float(eta*z['S2'][i]*ytr4[i])\n",
    "        w[1] = w[1] + float(eta*z['S3'][i]*ytr4[i])\n",
    "        w[2] = w[2] + float(eta*z['S4'][i]*ytr4[i])\n",
    "        w[3] = w[3] + float(eta*ytr4[i])\n",
    "        \n",
    "        \n",
    "print(w)\n",
    "accu=0\n",
    "dis=0\n",
    "\n",
    "for i in range (1, len(z1)-1):\n",
    "    if yts4[i]*(z1['S2'][i]*w[0]+z1['S3'][i]*w[1]+z1['S4'][i]*w[2]+w[3])>0:\n",
    "        accu+=1\n",
    "    else:\n",
    "        dis+=1\n",
    "            \n",
    "print(accu/(accu+dis))"
   ]
  },
  {
   "cell_type": "code",
   "execution_count": null,
   "metadata": {},
   "outputs": [],
   "source": []
  },
  {
   "cell_type": "code",
   "execution_count": null,
   "metadata": {},
   "outputs": [],
   "source": []
  }
 ],
 "metadata": {
  "kernelspec": {
   "display_name": "Python 3",
   "language": "python",
   "name": "python3"
  },
  "language_info": {
   "codemirror_mode": {
    "name": "ipython",
    "version": 3
   },
   "file_extension": ".py",
   "mimetype": "text/x-python",
   "name": "python",
   "nbconvert_exporter": "python",
   "pygments_lexer": "ipython3",
   "version": "3.6.5"
  }
 },
 "nbformat": 4,
 "nbformat_minor": 2
}
