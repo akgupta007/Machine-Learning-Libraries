{
 "cells": [
  {
   "cell_type": "code",
   "execution_count": 7,
   "metadata": {},
   "outputs": [],
   "source": [
    "import numpy\n",
    "import math\n",
    "from numpy.linalg import inv "
   ]
  },
  {
   "cell_type": "code",
   "execution_count": 8,
   "metadata": {},
   "outputs": [],
   "source": [
    "def FLDA(X,Y):\n",
    "    f = X.shape[1]  #data dimension\n",
    "    C0 = numpy.array([X[i] for i in range(X.shape[0]) if Y[i] == 0])   #separating class 0\n",
    "    C1 = numpy.array([X[i] for i in range(X.shape[0]) if Y[i] == 1])   #separating class 1\n",
    "    M0 = numpy.sum(C0,axis = 0)/C0.shape[0]                            #mean of Class 0\n",
    "    M1 = numpy.sum(C1,axis = 0)/C1.shape[0]                            #mean of class 1\n",
    "    M0 = numpy.reshape(M0,(f,1))                                        \n",
    "    M1 = numpy.reshape(M1,(f,1))\n",
    "    C0 = numpy.reshape(C0,(C0.shape[0],C0.shape[1],1))                 \n",
    "    C1 = numpy.reshape(C1,(C1.shape[0],C1.shape[1],1))\n",
    "    SW0 = numpy.sum(numpy.array([(C0[i]-M0)@(C0[i]-M0).T for i in range(C0.shape[0])]), axis = 0)\n",
    "    SW1 = numpy.sum(numpy.array([(C1[i]-M1)@(C1[i]-M1).T for i in range(C1.shape[0])]), axis = 0)\n",
    "    SW = SW0 + SW1\n",
    "    W = inv(SW)@(M1-M0)\n",
    "    \n",
    "    b = -(W.T@(M1+M0) + (W.T@W)*W.T@(SW0@W - SW1@W))/2\n",
    "    return W.reshape(X.shape[1]),b[0][0]"
   ]
  },
  {
   "cell_type": "code",
   "execution_count": 2,
   "metadata": {},
   "outputs": [],
   "source": [
    "import csv\n",
    "import numpy\n",
    "# reading csv file to extract data into numpy array\n",
    "with open('Medical_data.csv', 'r') as f:\n",
    "    medical = list(csv.reader(f, delimiter=','))\n",
    "    med_data = numpy.array(medical)\n",
    "\n",
    "# separating feature and label\n",
    "X = med_data[1:1000,1:].astype('float')   # feature matrix\n",
    "Y = med_data[1:1000,0]  # label of input\n",
    "classes = ['HEALTHY','SURGERY','MEDICATION']"
   ]
  },
  {
   "cell_type": "code",
   "execution_count": 5,
   "metadata": {},
   "outputs": [],
   "source": [
    "def multiclassFLDA(X,Y,classes):\n",
    "    f = X.shape[1]\n",
    "    n = X.shape[0]\n",
    "    c = len(classes)\n",
    "    W = numpy.zeros((c,f))\n",
    "    b = numpy.zeros((c))\n",
    "    for i in range(c):\n",
    "        Ty = numpy.zeros((n))\n",
    "        for j in range(n):\n",
    "            if Y[j] == classes[i]:\n",
    "                Ty[j] = 1\n",
    "            else:\n",
    "                Ty[j] = 0\n",
    "        W[i],b[i] = FLDA(X,Ty)\n",
    "    return W,b"
   ]
  },
  {
   "cell_type": "code",
   "execution_count": 9,
   "metadata": {},
   "outputs": [],
   "source": [
    "W,b = multiclassFLDA(X,Y,classes)"
   ]
  },
  {
   "cell_type": "code",
   "execution_count": 14,
   "metadata": {},
   "outputs": [],
   "source": [
    "def accuracy(X,Y,W,b,classes):\n",
    "    c = len(classes)         #number of classes\n",
    "    n = X.shape[0]           #number of data samples\n",
    "    f = W.shape[1]           #input dimension\n",
    "    acc = 0                  #number of correctly classified inputs\n",
    "    \n",
    "    # implementing soft-max to calculate predicted class\n",
    "    g = numpy.zeros(c)     # probability for each class\n",
    "    for i in range(n):\n",
    "        g = numpy.exp((W@X[i].reshape(f,1)).reshape(c)+b)\n",
    "        y_predicted = numpy.where(g == max(g))\n",
    "        if (y_predicted[0] == classes.index(Y[i])):\n",
    "            acc += 1\n",
    "    \n",
    "    return acc/X.shape[0]"
   ]
  },
  {
   "cell_type": "code",
   "execution_count": 15,
   "metadata": {},
   "outputs": [
    {
     "name": "stdout",
     "output_type": "stream",
     "text": [
      "80.78078078078079\n"
     ]
    }
   ],
   "source": [
    "acc = accuracy(X,Y,W,b,classes)\n",
    "print (acc*100)"
   ]
  },
  {
   "cell_type": "code",
   "execution_count": null,
   "metadata": {},
   "outputs": [],
   "source": [
    "# code may be improved"
   ]
  },
  {
   "cell_type": "code",
   "execution_count": null,
   "metadata": {},
   "outputs": [],
   "source": []
  }
 ],
 "metadata": {
  "kernelspec": {
   "display_name": "Python 3",
   "language": "python",
   "name": "python3"
  },
  "language_info": {
   "codemirror_mode": {
    "name": "ipython",
    "version": 3
   },
   "file_extension": ".py",
   "mimetype": "text/x-python",
   "name": "python",
   "nbconvert_exporter": "python",
   "pygments_lexer": "ipython3",
   "version": "3.6.6"
  }
 },
 "nbformat": 4,
 "nbformat_minor": 2
}
